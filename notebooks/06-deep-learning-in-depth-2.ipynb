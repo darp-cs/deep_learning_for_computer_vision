{
 "cells": [
  {
   "cell_type": "markdown",
   "metadata": {},
   "source": [
    "# **Image Classification [Part 2]**\n",
    "---"
   ]
  },
  {
   "cell_type": "markdown",
   "metadata": {},
   "source": [
    "**Required Reading**\n",
    "\n",
    "- [Ian Goodfellow's Deep Learning - Chapter 1, Section 6.2, and Section 8.1](https://www.deeplearningbook.org/contents/intro.html)\n",
    "- [AlexNet Paper](https://papers.nips.cc/paper/4824-imagenet-classification-with-deep-convolutional-neural-networks.pdf)\n",
    "\n",
    "**Additional Reading/Viewing**\n",
    "\n",
    "[Outstanding YouTube Series from 3 Blue 1 Brown](https://www.youtube.com/watch?v=aircAruvnKk)\n",
    "\n",
    "**Recommended** [Jupyter Theme](https://github.com/dunovank/jupyter-themes) for presenting this notebook:\n",
    "\n",
    "````\n",
    "jt -t grade3 -cellw=90% -fs=20 -tfs=20 -ofs=20\n",
    "````"
   ]
  },
  {
   "cell_type": "markdown",
   "metadata": {},
   "source": [
    "## 1. Convolutional Neural Networks\n",
    "---"
   ]
  },
  {
   "cell_type": "markdown",
   "metadata": {},
   "source": [
    "- Last time, in Image Classification Part 1, we left off wondering how Yann LeCun beat our 5 layer deep network way back in 1998. \n",
    "- Here's a clip of Yann in 1993 at AT&T Bell Labs demonstrating LeNet-1, a precursor to his 1998 network."
   ]
  },
  {
   "cell_type": "code",
   "execution_count": 1,
   "metadata": {},
   "outputs": [
    {
     "data": {
      "image/jpeg": "[encoded data removed]",
      "text/html": [
       "\n",
       "        <iframe\n",
       "            width=\"960\"\n",
       "            height=\"540\"\n",
       "            src=\"https://www.youtube.com/embed/FwFduRA_L6Q\"\n",
       "            frameborder=\"0\"\n",
       "            allowfullscreen\n",
       "        ></iframe>\n",
       "        "
      ],
      "text/plain": [
       "<IPython.lib.display.YouTubeVideo at 0x10af89048>"
      ]
     },
     "execution_count": 1,
     "metadata": {},
     "output_type": "execute_result"
    }
   ],
   "source": [
    "from IPython.lib.display import YouTubeVideo\n",
    "YouTubeVideo('FwFduRA_L6Q', width = 960, height = 540)"
   ]
  },
  {
   "cell_type": "markdown",
   "metadata": {},
   "source": [
    "- Yann LeCun joined AT&T Bell Labs in 1988 after leaving a postdoc position on Geoff Hinton's lab at the University of Toronto. \n",
    "- LeCun's research focused on optical charecter recognition (OCR), and developed a system that was used to read 10% of all the checks in the US in the late 1990s and early 2000s. [Source](https://en.wikipedia.org/wiki/Yann_LeCun).\n",
    "- His collaborators at AT&T included Leon Bottou and [Vladimir Vapnik](https://en.wikipedia.org/wiki/Vladimir_Vapnik).\n",
    "- In 2013, Yann became the director of Facebook AI Research (FAIR). "
   ]
  },
  {
   "cell_type": "markdown",
   "metadata": {},
   "source": [
    "### **So how did Yann Lecun beat our 5-layer deep network way back in 1998?**\n"
   ]
  },
  {
   "cell_type": "markdown",
   "metadata": {},
   "source": [
    "- The key difference between Yann's network and ours is an idea that Yann called **weight sharing** in his [1989 Publication on Handwritten Zip Code Recognition](http://yann.lecun.com/exdb/publis/pdf/lecun-89e.pdf)."
   ]
  },
  {
   "cell_type": "markdown",
   "metadata": {},
   "source": [
    "![](../graphics/birth_of_modern_cnn-01.png)"
   ]
  },
  {
   "cell_type": "markdown",
   "metadata": {},
   "source": [
    "- Today we call Yann's idea a Convolutional Neural Network (CNN). \n",
    "- [Goodfellow](https://www.deeplearningbook.org/contents/convnets.html) gives a nice CNN definition: \n",
    "*\"Convolutional networks are simply neural networks that use convolution in place of general matrix multiplication in at least one of their layers.\"*"
   ]
  },
  {
   "cell_type": "markdown",
   "metadata": {},
   "source": [
    "### **They Should Really Be Called \"Cross Correlation Neural Networks\"**"
   ]
  },
  {
   "cell_type": "markdown",
   "metadata": {},
   "source": [
    "![](../graphics/filter_animation.gif)"
   ]
  },
  {
   "cell_type": "markdown",
   "metadata": {},
   "source": [
    "- The convolution operation is used in many areas of mathematics and engineering, we can express 2d convolution like this:\n",
    "$$\n",
    "S(i, j) = \\sum_m \\sum_n I(i-m, j-n)K(m, n)\n",
    "$$\n",
    "- Where $I$ is our input image, $K$ is kernel and S is our output. \n",
    "- Subtracting $m$ and $n$ from $i$ and $j$ has the effect of flipping our kernel $K$ makes convolution commutative. However, in Convolutional Neural Networks, we don't really care about the commutative property, and many libraries, including tensorflow implement the **cross-correlation** function instead of **convolution**:\n",
    "\n",
    "$$\n",
    "S(i, j) = \\sum_m \\sum_n I(i+m, j+n)K(m, n)\n",
    "$$"
   ]
  },
  {
   "cell_type": "markdown",
   "metadata": {},
   "source": [
    "![](../graphics/spacer_small.png)"
   ]
  },
  {
   "cell_type": "markdown",
   "metadata": {},
   "source": [
    "### 1.1 CNN Walkthrough\n",
    "---"
   ]
  },
  {
   "cell_type": "markdown",
   "metadata": {},
   "source": [
    "- Let's walkthrough how CNNs process input images. \n",
    "- We'll borrow some slides from [Stanford's CS 231n: Convolutional Neural Networks for Visual Recognition](https://www.youtube.com/watch?v=LxfUGhug-iQ&list=PLkt2uSq6rBVctENoVBg1TpCC7OQi31AlC&index=7).\n",
    "- A nice way to think about the convolutional operations we apply in neural networks is **operations on volumes**, as opposed to the operations on vectors we saw with regular neural networks:\n"
   ]
  },
  {
   "cell_type": "code",
   "execution_count": 2,
   "metadata": {},
   "outputs": [],
   "source": [
    "from IPython.display import Image, display\n",
    "from ipywidgets import interact\n",
    "\n",
    "def slide_show(slide_num=1):     \n",
    "    display(Image('../graphics/cs_231n_cnn_slides/cs_231n_' + str(slide_num) + '.png'))"
   ]
  },
  {
   "cell_type": "code",
   "execution_count": 3,
   "metadata": {},
   "outputs": [
    {
     "data": {
      "application/vnd.jupyter.widget-view+json": {
       "model_id": "d6ac721ee93b47689849de857d82ab0e",
       "version_major": 2,
       "version_minor": 0
      },
      "text/plain": [
       "interactive(children=(IntSlider(value=1, description='slide_num', max=5, min=1), Output()), _dom_classes=('wid…"
      ]
     },
     "metadata": {},
     "output_type": "display_data"
    }
   ],
   "source": [
    "interact(slide_show, slide_num = (1, 5));"
   ]
  },
  {
   "cell_type": "markdown",
   "metadata": {},
   "source": [
    "![](../graphics/spacer_small.png)"
   ]
  },
  {
   "cell_type": "markdown",
   "metadata": {},
   "source": [
    "### 1.2 Padding + Strides\n",
    "---"
   ]
  },
  {
   "cell_type": "markdown",
   "metadata": {},
   "source": [
    "- As you can imagine, there are many variants of convolution used in CNNs, there's a [really great paper on this](https://arxiv.org/pdf/1603.07285.pdf). \n",
    "- Changing our padding or strides will change the size of our data as it flows through our network. "
   ]
  },
  {
   "cell_type": "markdown",
   "metadata": {},
   "source": [
    "<table style=\"width:100%; table-layout:fixed;\">\n",
    "  <tr>\n",
    "    <td><img width=\"150px\" src=\"../graphics/conv_animations/no_padding_no_strides.gif\"></td>\n",
    "    <td><img width=\"150px\" src=\"../graphics/conv_animations/arbitrary_padding_no_strides.gif\"></td>\n",
    "    <td><img width=\"150px\" src=\"../graphics/conv_animations/same_padding_no_strides.gif\"></td>\n",
    "    <td><img width=\"150px\" src=\"../graphics/conv_animations/full_padding_no_strides.gif\"></td>\n",
    "  </tr>\n",
    "  <tr>\n",
    "    <td>No padding, no strides</td>\n",
    "    <td>Arbitrary padding, no strides</td>\n",
    "    <td>Half padding, no strides</td>\n",
    "    <td>Full padding, no strides</td>\n",
    "  </tr>\n",
    "  <tr>\n",
    "    <td><img width=\"150px\" src=\"../graphics/conv_animations/no_padding_strides.gif\"></td>\n",
    "    <td><img width=\"150px\" src=\"../graphics/conv_animations/padding_strides.gif\"></td>\n",
    "    <td><img width=\"150px\" src=\"../graphics/conv_animations/padding_strides_odd.gif\"></td>\n",
    "    <td></td>\n",
    "  </tr>\n",
    "  <tr>\n",
    "    <td>No padding, strides</td>\n",
    "    <td>Padding, strides</td>\n",
    "    <td>Padding, strides (odd)</td>\n",
    "    <td></td>\n",
    "  </tr>\n",
    "</table>"
   ]
  },
  {
   "cell_type": "markdown",
   "metadata": {},
   "source": [
    "![](../graphics/spacer_small.png)"
   ]
  },
  {
   "cell_type": "markdown",
   "metadata": {},
   "source": [
    "### 1.3 How is LeNet-5 so good?\n",
    "---"
   ]
  },
  {
   "cell_type": "markdown",
   "metadata": {},
   "source": [
    "- As nicely stated the exceprt from Yann Lecun's 1989 paper above, CNNs \"allow us to express information about the geometry and topology of the task\". The arrangement of the pixels in our images is not arbitrary, and we know the lots of information can be gleaned by looking at local neighborhoods of our images (such as edge detection) - CNNs are a good for this. \n",
    "- Aside from taking advantage of the topology of images, CNNs are also **incredibly efficient**. \n",
    "- Let's have a look at LeCun's 1998 convolutional neueral network, LeNet-5, that achieves a 99.05 accuracy on mnist."
   ]
  },
  {
   "cell_type": "markdown",
   "metadata": {},
   "source": [
    "![](../graphics/question_two-01.png)"
   ]
  },
  {
   "cell_type": "markdown",
   "metadata": {},
   "source": [
    "---"
   ]
  },
  {
   "cell_type": "markdown",
   "metadata": {},
   "source": [
    "![](../graphics/question_three-01.png)"
   ]
  },
  {
   "cell_type": "markdown",
   "metadata": {},
   "source": [
    "- So, the first layer of LeNet-5 has way less parameters than our 7 layer fully connected layers. \n",
    "- **Why might this be advantageous?**"
   ]
  },
  {
   "cell_type": "markdown",
   "metadata": {},
   "source": [
    "![](../graphics/spacer_small.png)"
   ]
  },
  {
   "cell_type": "markdown",
   "metadata": {},
   "source": [
    "### 1.4 Pooling\n",
    "---"
   ]
  },
  {
   "cell_type": "markdown",
   "metadata": {},
   "source": [
    "- Let's look at one more interesting idea from LeNet-5. After each convolutional layer, Yann includes a \"subsampling\" layer. Today we call this a **pooling** layer. "
   ]
  },
  {
   "cell_type": "markdown",
   "metadata": {},
   "source": [
    "![](../graphics/lenet_5_screenshot.png)"
   ]
  },
  {
   "cell_type": "markdown",
   "metadata": {},
   "source": [
    "- Notice that after each of Yann's pooling layers, our feature maps decrease in size by a factor of 2. "
   ]
  },
  {
   "cell_type": "markdown",
   "metadata": {},
   "source": [
    " ![](../graphics/pooling-01.png)"
   ]
  },
  {
   "cell_type": "markdown",
   "metadata": {},
   "source": [
    "- Pooling makes our networks **approximately invariant** to translations in our input. \n",
    "- This can be advantageous in problems like image classification, where the exactly location of features is less important than their general location. \n",
    "- Pooling also reduces the size of our data at it flows through our network, allowing us to effectively make our networks smaller and more efficient."
   ]
  },
  {
   "cell_type": "markdown",
   "metadata": {},
   "source": [
    "### 1.5 Let's Train LeNet-5!\n",
    "---"
   ]
  },
  {
   "cell_type": "markdown",
   "metadata": {},
   "source": [
    "- We'll implement a modern version of LeNet-5, with a few changes from Yann's original implementation:\n",
    "    - Activation functions immediately follow conv layers, not pooling layers. \n",
    "    - Our pooling layers don't have learnable parameters, unlike LeCun's sub-sampling layers \n",
    "    - We'll using a cross entropy cost function, LeNet used radial basis functions \n",
    "    - We'll using the Adam optimizer, LeCun used gradient descent with a variable learning rate."
   ]
  },
  {
   "cell_type": "code",
   "execution_count": 4,
   "metadata": {},
   "outputs": [],
   "source": [
    "import torch\n",
    "import torch.nn as nn\n",
    "import torch.nn.functional as F"
   ]
  },
  {
   "cell_type": "markdown",
   "metadata": {},
   "source": [
    "- We'll borrow this method from Jeremy Howard's great [neural network tutorial](https://pytorch.org/tutorials/beginner/nn_tutorial.html), that will allow us to use view to rehshape our tensor after our convolutional layers.\n",
    "- Apparently doing this is a bit contreversial, the PyTorch authors would prefer you create your models using classes, as we saw in our introduction_to_pytorch notebook, where the fastai preferece is to use nn.Sequential to create models. "
   ]
  },
  {
   "cell_type": "code",
   "execution_count": 5,
   "metadata": {},
   "outputs": [],
   "source": [
    "class Lambda(nn.Module):\n",
    "    def __init__(self, func):\n",
    "        super().__init__()\n",
    "        self.func = func\n",
    "\n",
    "    def forward(self, x):\n",
    "        return self.func(x)"
   ]
  },
  {
   "cell_type": "markdown",
   "metadata": {},
   "source": [
    "![](../graphics/lenet_5_screenshot.png)"
   ]
  },
  {
   "cell_type": "code",
   "execution_count": 6,
   "metadata": {},
   "outputs": [],
   "source": [
    "# Modern Version of LeNet-5 in Pytorch\n",
    "model = nn.Sequential(nn.Conv2d(1, 6, kernel_size = 5), nn.Tanh(), \n",
    "                     nn.AvgPool2d(2), \n",
    "                     nn.Conv2d(6, 16 , kernel_size = 5), nn.Tanh(), \n",
    "                     nn.AvgPool2d(2), \n",
    "                     Lambda(lambda x: x.view(x.size(0),-1)), \n",
    "                     nn.Linear(256, 120), nn.Tanh(),\n",
    "                     nn.Linear(120, 84), nn.Tanh(),\n",
    "                     nn.Linear(84, 10))"
   ]
  },
  {
   "cell_type": "markdown",
   "metadata": {},
   "source": [
    "- A really valuable/important step is comparing this pytorch code line by line with the architecture we're implementing. "
   ]
  },
  {
   "cell_type": "code",
   "execution_count": 7,
   "metadata": {},
   "outputs": [],
   "source": [
    "from torch.utils.data import DataLoader, TensorDataset\n",
    "from torch import optim"
   ]
  },
  {
   "cell_type": "code",
   "execution_count": 8,
   "metadata": {},
   "outputs": [],
   "source": [
    "import numpy as np\n",
    "from pathlib import Path\n",
    "from matplotlib.pyplot import *\n",
    "import pickle, gzip\n",
    "from tqdm import tqdm\n",
    "\n",
    "DATA_PATH = Path(\"../data\")\n",
    "PATH = DATA_PATH / \"mnist\"\n",
    "FILENAME = \"mnist.pkl.gz\"\n",
    "\n",
    "with gzip.open((PATH / FILENAME).as_posix(), \"rb\") as f:\n",
    "        ((x_train, y_train), (x_valid, y_valid), _) = pickle.load(f, encoding=\"latin-1\")"
   ]
  },
  {
   "cell_type": "markdown",
   "metadata": {},
   "source": [
    "- To use `Conv2d` in Pytorch, we need to reshape our data into tensors of shape (batch_size, color_channels, image_height, image_width)."
   ]
  },
  {
   "cell_type": "code",
   "execution_count": 9,
   "metadata": {},
   "outputs": [],
   "source": [
    "x_train = x_train.reshape(-1, 1, 28, 28)\n",
    "x_valid = x_valid.reshape(-1, 1, 28, 28)"
   ]
  },
  {
   "cell_type": "code",
   "execution_count": 10,
   "metadata": {},
   "outputs": [
    {
     "data": {
      "text/plain": [
       "(50000, 1, 28, 28)"
      ]
     },
     "execution_count": 10,
     "metadata": {},
     "output_type": "execute_result"
    }
   ],
   "source": [
    "x_train.shape"
   ]
  },
  {
   "cell_type": "code",
   "execution_count": 11,
   "metadata": {},
   "outputs": [
    {
     "data": {
      "text/plain": [
       "Text(0.5, 1.0, '9')"
      ]
     },
     "execution_count": 11,
     "metadata": {},
     "output_type": "execute_result"
    },
    {
     "data": {
      "image/png": "[encoded data removed]",
      "text/plain": [
       "<Figure size 432x288 with 1 Axes>"
      ]
     },
     "metadata": {
      "needs_background": "light"
     },
     "output_type": "display_data"
    }
   ],
   "source": [
    "#Double check tha tour reshape is doing what we think it is!\n",
    "imshow(x_train[600, 0, :, :])\n",
    "title(y_train[600])"
   ]
  },
  {
   "cell_type": "code",
   "execution_count": 12,
   "metadata": {},
   "outputs": [],
   "source": [
    "#Create dataloaders\n",
    "train_ds = TensorDataset(torch.tensor(x_train, dtype = torch.float), torch.tensor(y_train, dtype = torch.long))\n",
    "train_dl = DataLoader(train_ds, batch_size=64, shuffle = True, num_workers = 4, drop_last = True)\n",
    "\n",
    "valid_ds = TensorDataset(torch.tensor(x_valid, dtype = torch.float), torch.tensor(y_valid, dtype = torch.long))\n",
    "valid_dl = DataLoader(valid_ds, batch_size=256, shuffle = True, num_workers = 4, drop_last = True)"
   ]
  },
  {
   "cell_type": "code",
   "execution_count": 13,
   "metadata": {},
   "outputs": [
    {
     "name": "stdout",
     "output_type": "stream",
     "text": [
      "Tanh() torch.Size([64, 6, 24, 24])\n",
      "AvgPool2d(kernel_size=2, stride=2, padding=0) torch.Size([64, 6, 24, 24])\n",
      "Conv2d(6, 16, kernel_size=(5, 5), stride=(1, 1)) torch.Size([64, 6, 12, 12])\n",
      "Tanh() torch.Size([64, 16, 8, 8])\n",
      "AvgPool2d(kernel_size=2, stride=2, padding=0) torch.Size([64, 16, 8, 8])\n",
      "Lambda() torch.Size([64, 16, 4, 4])\n",
      "Linear(in_features=256, out_features=120, bias=True) torch.Size([64, 256])\n",
      "Tanh() torch.Size([64, 120])\n",
      "Linear(in_features=120, out_features=84, bias=True) torch.Size([64, 120])\n",
      "Tanh() torch.Size([64, 84])\n",
      "Linear(in_features=84, out_features=10, bias=True) torch.Size([64, 84])\n"
     ]
    }
   ],
   "source": [
    "x, y = next(iter(train_dl))\n",
    "for i in range(1, len(model)):\n",
    "    a = model[:i](x)\n",
    "    print(model[i], a.shape)"
   ]
  },
  {
   "cell_type": "code",
   "execution_count": 14,
   "metadata": {},
   "outputs": [
    {
     "name": "stdout",
     "output_type": "stream",
     "text": [
      "Epoch: 1, training loss = 0.261, valid accuracy = 0.941\n",
      "Epoch: 2, training loss = 0.195, valid accuracy = 0.973\n",
      "Epoch: 3, training loss = 0.152, valid accuracy = 0.961\n",
      "Epoch: 4, training loss = 0.077, valid accuracy = 0.953\n",
      "Epoch: 5, training loss = 0.059, valid accuracy = 0.977\n",
      "Epoch: 6, training loss = 0.071, valid accuracy = 0.969\n",
      "Epoch: 7, training loss = 0.024, valid accuracy = 0.984\n",
      "Epoch: 8, training loss = 0.014, valid accuracy = 0.98\n",
      "Epoch: 9, training loss = 0.013, valid accuracy = 0.984\n",
      "Epoch: 10, training loss = 0.048, valid accuracy = 0.953\n",
      "Epoch: 11, training loss = 0.03, valid accuracy = 0.992\n",
      "Epoch: 12, training loss = 0.004, valid accuracy = 0.988\n",
      "Epoch: 13, training loss = 0.004, valid accuracy = 0.992\n",
      "Epoch: 14, training loss = 0.003, valid accuracy = 0.992\n",
      "Epoch: 15, training loss = 0.031, valid accuracy = 0.996\n"
     ]
    }
   ],
   "source": [
    "num_epochs = 15; lr = 1e-1; accuracies_cross_entropy = [] #We can use a higher learning rate with cross entroy loss. \n",
    "\n",
    "opt = optim.SGD(model.parameters(), lr=lr)\n",
    "for i in range(num_epochs):\n",
    "    for x, y in train_dl:\n",
    "        yhat = model(x)\n",
    "        loss = F.cross_entropy(yhat, y) #Takes care of softmax and one hot encoding for us!\n",
    "        loss.backward() \n",
    "        opt.step(); opt.zero_grad();\n",
    "    \n",
    "    #Check validation loss and accuracy at the end of each epoch:\n",
    "    model.eval() #Put in evaluation mode!\n",
    "    with torch.no_grad():\n",
    "        x, y = next(iter(valid_dl)) #Just measure on one minibatch\n",
    "        yhat = model(x)\n",
    "        max_values, max_indices = torch.max(yhat, dim=1)\n",
    "        accuracy = (max_indices.eq(y).sum().float()/len(y)).item()\n",
    "        accuracies_cross_entropy.append(accuracy)\n",
    "        print('Epoch: ' + str(i+1) + ', training loss = ' + str(round(loss.item(), 3)) + \\\n",
    "              ', valid accuracy = ' + str(round(accuracy, 3)))"
   ]
  },
  {
   "cell_type": "code",
   "execution_count": 15,
   "metadata": {},
   "outputs": [
    {
     "data": {
      "text/plain": [
       "0.9872999787330627"
      ]
     },
     "execution_count": 15,
     "metadata": {},
     "output_type": "execute_result"
    }
   ],
   "source": [
    "#Measure Accuracy on complete validation set for better accuracy estimate:\n",
    "x = torch.tensor(x_valid, dtype = torch.float)\n",
    "y = torch.tensor(y_valid, dtype = torch.long)\n",
    "yhat = model(x)\n",
    "max_values, max_indices = torch.max(yhat, dim=1)\n",
    "accuracy = (max_indices.eq(y).sum().float()/len(y)).item()\n",
    "accuracy"
   ]
  },
  {
   "cell_type": "markdown",
   "metadata": {},
   "source": [
    "- We've acheived a ~99% test set accuracy with our LeNet-5 implementation!\n",
    "- We did this be leveraging something we knew about images: **That the relative location of our pixels mater**, and that we can achieve very good performance by sliding the same convolutional kernel across our whole image. \n",
    "- If you're interested in the specific filters that LeNet-5 learns, Yann has some nice [visualizations](http://yann.lecun.com/exdb/lenet/index.html) of LeNet-5 in action on this website. "
   ]
  },
  {
   "cell_type": "markdown",
   "metadata": {},
   "source": [
    "### 1.6 Why Didn't Deep Learning Take Off in the Early 2000s?\n",
    "---"
   ]
  },
  {
   "cell_type": "markdown",
   "metadata": {},
   "source": [
    "- As we'll see, Yann's deep neural network architecture, LeNet-5 is remarkably similar to the models we use today. \n",
    "- However, as you may know, **deep learning** didn't really take off until ~2012. \n",
    "- What took so long? \n",
    "- How are modern deep learning models different than LeNet-5?\n",
    "- In the next section, we'll discuss a bit of history, and then try to answer these questions. "
   ]
  },
  {
   "cell_type": "markdown",
   "metadata": {},
   "source": [
    "![](../graphics/spacer_small.png)"
   ]
  },
  {
   "cell_type": "markdown",
   "metadata": {},
   "source": [
    "## 2. ImageNet and AlexNet\n",
    "---"
   ]
  },
  {
   "cell_type": "markdown",
   "metadata": {},
   "source": [
    "![](../graphics/fei_fei_li-01.png)"
   ]
  },
  {
   "cell_type": "markdown",
   "metadata": {},
   "source": [
    "- Beginning around 2006, Fei Fei Li, then a new professor at the University of Illinois Urbana-Champaign, began working on building the largest labeled image dataset ever constructed. [Great Article on Fei Fei Li and ImageNet](https://qz.com/1034972/the-data-that-changed-the-direction-of-ai-research-and-possibly-the-world/).\n",
    "- She chose to use the [WordNet lexical database](https://en.wikipedia.org/wiki/WordNet) for her class labels, and to focus on finding images for each \"synset\" in Wordnet. \n",
    "- Li first tried hiring undergraduate students to perform annotation, but quickly found that this appraoch simple would not achieve the scale she needed, and instead used Amazon Mechanical Turk. \n",
    "- ImageNet was first published in 2009, and quickly developed into a public computer vision competition, the ImageNet Large Scale Visual Recognition Competition (ILSVRC). \n",
    "- ILSVRC used a subset of 1000 imaget classes, and included ~1.2M training images. "
   ]
  },
  {
   "cell_type": "code",
   "execution_count": 16,
   "metadata": {},
   "outputs": [
    {
     "data": {
      "image/jpeg": "[encoded data removed]",
      "text/html": [
       "\n",
       "        <iframe\n",
       "            width=\"1280\"\n",
       "            height=\"720\"\n",
       "            src=\"https://www.youtube.com/embed/WO_mP-HPH4M\"\n",
       "            frameborder=\"0\"\n",
       "            allowfullscreen\n",
       "        ></iframe>\n",
       "        "
      ],
      "text/plain": [
       "<IPython.lib.display.YouTubeVideo at 0x13963abe0>"
      ]
     },
     "execution_count": 16,
     "metadata": {},
     "output_type": "execute_result"
    }
   ],
   "source": [
    "from IPython.display import YouTubeVideo\n",
    "YouTubeVideo('WO_mP-HPH4M', width = 1280, height=720)"
   ]
  },
  {
   "cell_type": "markdown",
   "metadata": {},
   "source": [
    "- So, perhaps not surprisingly, ILSVRC turned out to be quite difficult. \n",
    "- The best performance achieved in 2010 was a top-5 test set error rate of **28.2%**. Top-5 means that the correct answer was one of the top five answers given by the network. \n",
    "- In 2011, the top-5 error rate dropped to **25.8%**, [achieved by a team from Xerox](http://image-net.org/challenges/LSVRC/2011/results) using SIFT and Fisher Vectors (FVs).\n",
    "- And then...this happened:"
   ]
  },
  {
   "cell_type": "markdown",
   "metadata": {},
   "source": [
    "### 2.1 Hinton et al Make Neural Networks Sexy Again...Again\n",
    "---"
   ]
  },
  {
   "cell_type": "markdown",
   "metadata": {},
   "source": [
    "![](../graphics/hinton_krizhevinsky-01.png)"
   ]
  },
  {
   "cell_type": "markdown",
   "metadata": {},
   "source": [
    "- SuperVision, a team from the University of Toronto, led by Geoff Hinton (Remember Him?) **reduced the top-5 test set error by around 40%, down to 15.4%.**\n",
    "- The model they used is today often called \"AlexNet\" after Alex Krizhevsky\n",
    "- So, how did Hinton's team acheive such a huge increase in performance? What type of magic was afoot? \n",
    "- Let's have a closer look at the [AlexNet Paper](http://papers.nips.cc/paper/4824-imagenet-classification-with-deep-convolutional-neural-networks.pdf).\n",
    "- Hinton's team used a deep neural network, not all that different from LeNet-5:"
   ]
  },
  {
   "cell_type": "markdown",
   "metadata": {},
   "source": [
    "![](../graphics/alexnet_paper_screenshots/architecture.png)"
   ]
  },
  {
   "cell_type": "markdown",
   "metadata": {},
   "source": [
    "- This figure drives be crazy becuase the top part is cropped off in the original paper, one of these days I'm going to make a non-cropped version. \n",
    "- There's also apparently an error in the paper - the input image size should be 227x227. \n",
    "- Let's take some time to talk throught the **Alexnet** architecture. \n",
    "- First, this figure shows 2 copies of most layers - **why?**\n",
    "- Next, why is our output of dimenion 1000? "
   ]
  },
  {
   "cell_type": "markdown",
   "metadata": {},
   "source": [
    "![](../graphics/spacer_small.png)"
   ]
  },
  {
   "cell_type": "markdown",
   "metadata": {},
   "source": [
    "### 2.2 Pretrained Alexnet in Pytorch\n",
    "---"
   ]
  },
  {
   "cell_type": "markdown",
   "metadata": {},
   "source": [
    "- Alright, let's walk through AlexNet in detail.\n",
    "- We'll use a simplified AlexNet, where we merge Alex's two GPU pipelines into one.\n",
    "- We can grab a pretrained version of Alexnet using [torchvision](https://pytorch.org/docs/stable/torchvision/index.html)."
   ]
  },
  {
   "cell_type": "code",
   "execution_count": 17,
   "metadata": {},
   "outputs": [],
   "source": [
    "import numpy as np\n",
    "from matplotlib.pyplot import *"
   ]
  },
  {
   "cell_type": "code",
   "execution_count": 18,
   "metadata": {},
   "outputs": [
    {
     "ename": "ModuleNotFoundError",
     "evalue": "No module named 'torchvision'",
     "output_type": "error",
     "traceback": [
      "\u001b[0;31m---------------------------------------------------------------------------\u001b[0m",
      "\u001b[0;31mModuleNotFoundError\u001b[0m                       Traceback (most recent call last)",
      "\u001b[0;32m<ipython-input-18-c658c53ff437>\u001b[0m in \u001b[0;36m<module>\u001b[0;34m\u001b[0m\n\u001b[1;32m      1\u001b[0m \u001b[0;32mimport\u001b[0m \u001b[0mtorch\u001b[0m\u001b[0;34m\u001b[0m\u001b[0;34m\u001b[0m\u001b[0m\n\u001b[1;32m      2\u001b[0m \u001b[0;32mimport\u001b[0m \u001b[0mtorch\u001b[0m\u001b[0;34m.\u001b[0m\u001b[0mnn\u001b[0m \u001b[0;32mas\u001b[0m \u001b[0mnn\u001b[0m\u001b[0;34m\u001b[0m\u001b[0;34m\u001b[0m\u001b[0m\n\u001b[0;32m----> 3\u001b[0;31m \u001b[0;32mimport\u001b[0m \u001b[0mtorchvision\u001b[0m\u001b[0;34m.\u001b[0m\u001b[0mmodels\u001b[0m \u001b[0;32mas\u001b[0m \u001b[0mmodels\u001b[0m\u001b[0;34m\u001b[0m\u001b[0;34m\u001b[0m\u001b[0m\n\u001b[0m\u001b[1;32m      4\u001b[0m \u001b[0malexnet\u001b[0m \u001b[0;34m=\u001b[0m \u001b[0mmodels\u001b[0m\u001b[0;34m.\u001b[0m\u001b[0malexnet\u001b[0m\u001b[0;34m(\u001b[0m\u001b[0mpretrained\u001b[0m \u001b[0;34m=\u001b[0m \u001b[0;32mTrue\u001b[0m\u001b[0;34m)\u001b[0m\u001b[0;34m\u001b[0m\u001b[0;34m\u001b[0m\u001b[0m\n",
      "\u001b[0;31mModuleNotFoundError\u001b[0m: No module named 'torchvision'"
     ]
    }
   ],
   "source": [
    "import torch\n",
    "import torch.nn as nn\n",
    "import torchvision.models as models\n",
    "alexnet = models.alexnet(pretrained = True)"
   ]
  },
  {
   "cell_type": "code",
   "execution_count": null,
   "metadata": {},
   "outputs": [],
   "source": [
    "alexnet.eval() #Put Model into evaluation mode"
   ]
  },
  {
   "cell_type": "markdown",
   "metadata": {},
   "source": [
    "- To get a feeling for what exactly alexnet if doing, let's walkthrough the network step by step. \n",
    "- There's a couple new concepts here, ReLU activation functions and Dropout, we'll discuss these as we get to them. \n",
    "- Let's grab an example image to pass through our network.\n",
    "- We'll use the Python Image Library (PIL) to import our image, PIL offers some nice compatabilities with pytorch and fastai."
   ]
  },
  {
   "cell_type": "code",
   "execution_count": null,
   "metadata": {},
   "outputs": [],
   "source": [
    "from PIL import Image\n",
    "im = Image.open('../data_sample/golf_ball.JPEG')"
   ]
  },
  {
   "cell_type": "code",
   "execution_count": null,
   "metadata": {},
   "outputs": [],
   "source": [
    "im"
   ]
  },
  {
   "cell_type": "markdown",
   "metadata": {},
   "source": [
    "- To actually pass our image into our network, we need to do a little preprocessing, including converting it into a pytorch tensor."
   ]
  },
  {
   "cell_type": "code",
   "execution_count": null,
   "metadata": {},
   "outputs": [],
   "source": [
    "from torchvision import transforms\n",
    "tfms = transforms.Compose([transforms.Resize((224, 224)), #Resize to standard alexnet size\n",
    "                                transforms.ToTensor(), #Convert to tensor\n",
    "                                transforms.Normalize(mean=[0.485, 0.456, 0.406], #Normalize using imagenet stats \n",
    "                                                     std=[0.229, 0.224, 0.225])]) "
   ]
  },
  {
   "cell_type": "code",
   "execution_count": null,
   "metadata": {},
   "outputs": [],
   "source": [
    "im_tensor = tfms(im)"
   ]
  },
  {
   "cell_type": "code",
   "execution_count": null,
   "metadata": {},
   "outputs": [],
   "source": [
    "im_tensor.shape #Notice that our color channels are now first:"
   ]
  },
  {
   "cell_type": "code",
   "execution_count": null,
   "metadata": {},
   "outputs": [],
   "source": [
    "#Quick visualization to see what we've got!\n",
    "fig = figure(0, (6,6))\n",
    "imshow(im_tensor.numpy()[0,:,:])\n",
    "title('Red color channel of reshaped tensor');"
   ]
  },
  {
   "cell_type": "markdown",
   "metadata": {},
   "source": [
    "- Before processing our image, we have to make one more minor adjustment. \n",
    "- Our network expects a minibatch of images of dimension (batch_size, color_channels, height, width). \n",
    "- Since we only have one image, we need to expand the dimension of our tensor from 3 to 4. \n",
    "- We can use this little trick:"
   ]
  },
  {
   "cell_type": "code",
   "execution_count": null,
   "metadata": {},
   "outputs": [],
   "source": [
    "im_tensor.shape, im_tensor[None].shape"
   ]
  },
  {
   "cell_type": "code",
   "execution_count": null,
   "metadata": {},
   "outputs": [],
   "source": [
    "#We can finally pass our image into alexnet!\n",
    "with torch.no_grad():\n",
    "    yhat = alexnet(im_tensor[None])"
   ]
  },
  {
   "cell_type": "code",
   "execution_count": null,
   "metadata": {},
   "outputs": [],
   "source": [
    "yhat.shape"
   ]
  },
  {
   "cell_type": "code",
   "execution_count": null,
   "metadata": {},
   "outputs": [],
   "source": [
    "fig = figure(0, (18, 6))\n",
    "plot(yhat.detach().numpy().ravel())\n",
    "grid(1)"
   ]
  },
  {
   "cell_type": "markdown",
   "metadata": {},
   "source": [
    "- Why is the dimension of our alexnet output (1, 1000)?\n",
    "- What do these numbers **mean**?"
   ]
  },
  {
   "cell_type": "markdown",
   "metadata": {},
   "source": [
    "![](../graphics/spacer_small.png)"
   ]
  },
  {
   "cell_type": "markdown",
   "metadata": {},
   "source": [
    "![](../graphics/spacer_small.png)"
   ]
  },
  {
   "cell_type": "markdown",
   "metadata": {},
   "source": [
    "- As you may have guessed, we have one prediction for each of the imagenet (ILSVRC 2012) class. \n",
    "- Now, let's look at the scale of our prediction values - they range from -10 to around 25 - why is this?\n",
    "- As we discussed in image classification part 1, classification models like alexnet are generally trained using a softmax output layer and a cross-entropy loss function. \n",
    "- The softmax function is generally part of the loss function, we can see that it hasn't been included in our pretrained alexnet. \n",
    "- If we add back in the softmax function, our outputs will be a bit easier to understand\n",
    "- Further, we can (under certain assumptions) interpret the softmax outputs as the models probability of a certian label, given the image.  "
   ]
  },
  {
   "cell_type": "code",
   "execution_count": null,
   "metadata": {},
   "outputs": [],
   "source": [
    "yhat_softmax = nn.Softmax(dim =1)(yhat)"
   ]
  },
  {
   "cell_type": "code",
   "execution_count": null,
   "metadata": {},
   "outputs": [],
   "source": [
    "fig = figure(0, (18, 6))\n",
    "plot(yhat_softmax.detach().numpy().ravel())\n",
    "grid(1)"
   ]
  },
  {
   "cell_type": "markdown",
   "metadata": {},
   "source": [
    "- That makes more sense! As you can see, after applying our softmax, our model is stronly predicting one class over the rest. \n",
    "- Let's see which class it is!"
   ]
  },
  {
   "cell_type": "code",
   "execution_count": null,
   "metadata": {},
   "outputs": [],
   "source": [
    "torch.argmax(yhat)"
   ]
  },
  {
   "cell_type": "code",
   "execution_count": null,
   "metadata": {},
   "outputs": [],
   "source": [
    "#To figure out which label our class index corresponds to, we need an imagenet index to label conversion:\n",
    "with open(\"../data_sample/imagenet_labels.txt\") as f:\n",
    "    idx2label = eval(f.read())"
   ]
  },
  {
   "cell_type": "code",
   "execution_count": null,
   "metadata": {},
   "outputs": [],
   "source": [
    "idx2label[torch.argmax(yhat).item()]"
   ]
  },
  {
   "cell_type": "markdown",
   "metadata": {},
   "source": [
    "- Alright, so as you can see, our pretrained alexnet model is making a pretty reasonable prediction!\n",
    "- Now, in the interesting of really understanding what's going on, let's spend a little time walkthrough our alexnet model. "
   ]
  },
  {
   "cell_type": "markdown",
   "metadata": {},
   "source": [
    "### 2.3 Alexnet \"Conv 1\"\n",
    "---"
   ]
  },
  {
   "cell_type": "code",
   "execution_count": null,
   "metadata": {},
   "outputs": [],
   "source": [
    "alexnet"
   ]
  },
  {
   "cell_type": "markdown",
   "metadata": {},
   "source": [
    "- Our model is divided into 3 sections: features, avgpool, and classifier. \n",
    "- We can directly access a given layer like this:"
   ]
  },
  {
   "cell_type": "code",
   "execution_count": null,
   "metadata": {},
   "outputs": [],
   "source": [
    "alexnet.features[0]"
   ]
  },
  {
   "cell_type": "markdown",
   "metadata": {},
   "source": [
    "- This is our first convolutional layer. As we can see, it's using a kernel size of (11x11). \n",
    "- Why is our number of input filters 3?\n",
    "- Let's have a look at our actual weight values. "
   ]
  },
  {
   "cell_type": "code",
   "execution_count": null,
   "metadata": {},
   "outputs": [],
   "source": [
    "w = alexnet.features[0].weight\n",
    "w.shape"
   ]
  },
  {
   "cell_type": "code",
   "execution_count": null,
   "metadata": {},
   "outputs": [],
   "source": [
    "fig = figure(0, (16, 16))\n",
    "for i in range(w.shape[0]):\n",
    "    fig.add_subplot(8, 8, i+1)\n",
    "    filt = np.moveaxis(w[i].detach().numpy().copy(), (0, 1, 2), (2, 0, 1))\n",
    "    filt -= filt.min(); filt /= filt.max(); #Rescale between 0 and 1 for imshow\n",
    "    imshow(filt); axis('off')"
   ]
  },
  {
   "cell_type": "markdown",
   "metadata": {},
   "source": [
    "- As you can see, our alexnet model learned some really interesting filter structures from training on imagenet!\n",
    "- What types of patterns would these filters respond to?\n",
    "- Some of these should remind you of the edge detectors we say earlier in the course!\n",
    "- We also see what appear to be \"blob detectors\" and maybe \"texture detectors\".\n",
    "- Can you believe this shit actually works!?\n",
    "- Now let's see what actually happens to our image in this first convolutional layer!"
   ]
  },
  {
   "cell_type": "code",
   "execution_count": null,
   "metadata": {},
   "outputs": [],
   "source": [
    "alexnet.features[0]"
   ]
  },
  {
   "cell_type": "code",
   "execution_count": null,
   "metadata": {},
   "outputs": [],
   "source": [
    "with torch.no_grad():\n",
    "    activations = alexnet.features[0](im_tensor[None]) #Pass image through first layer\n",
    "activations.shape"
   ]
  },
  {
   "cell_type": "code",
   "execution_count": null,
   "metadata": {
    "scrolled": false
   },
   "outputs": [],
   "source": [
    "fig = figure(0, (20, 20))\n",
    "for i in range(64): #activations.shape[1]):\n",
    "    fig.add_subplot(8, 8, i+1)\n",
    "    feature_map = activations[0, i, :, :].detach().numpy()\n",
    "    imshow(feature_map); axis('off');"
   ]
  },
  {
   "cell_type": "markdown",
   "metadata": {},
   "source": [
    "- These are the 64 channels our image is processed \"into\" in our first convoluational layer. \n",
    "- Notice that our filters are responding to different parts of the images. \n",
    "- There's a [really cool tool](https://www.youtube.com/watch?time_continue=31&v=AgkfIQ4IGaM) from Yosinski et al. for visualizing these activations through alexnet."
   ]
  },
  {
   "cell_type": "markdown",
   "metadata": {},
   "source": [
    "### 2.3 ReLU\n",
    "---"
   ]
  },
  {
   "cell_type": "markdown",
   "metadata": {},
   "source": [
    "- Ok, so we now hopefully have some sense for what our first convolutaional layer has learned to do.\n",
    "- The AlexNet team used an activation function that had not been widely used in neural networks before - Rectified Linear Units (ReLU). "
   ]
  },
  {
   "cell_type": "code",
   "execution_count": null,
   "metadata": {},
   "outputs": [],
   "source": [
    "alexnet.features[:3]"
   ]
  },
  {
   "cell_type": "markdown",
   "metadata": {},
   "source": [
    "![](../graphics/relu_activations-01.png)"
   ]
  },
  {
   "cell_type": "markdown",
   "metadata": {},
   "source": [
    "- From [Goodfellow section 6.3.1](https://www.deeplearningbook.org/contents/mlp.html): \n",
    "\n",
    ">\"These units are easy to optimize because they are so similar to linear units. The only diﬀerence between a linear unit and a rectiﬁed linear unit is that a rectiﬁed linear unit outputs zero across half its domain. This makes the derivatives through a rectiﬁed linear unit remain large whenever the unit is active. The gradients are not only large but also consistent. The second derivative of the rectifying operation is 0 almost everywhere, and the derivative of the rectifying operation is 1 everywhere that the unit is active.\"\n",
    "\n",
    "- Let's have a look at what our artivation funciton does to our data as it moves through our network."
   ]
  },
  {
   "cell_type": "code",
   "execution_count": null,
   "metadata": {},
   "outputs": [],
   "source": [
    "with torch.no_grad():\n",
    "    activations_1 = alexnet.features[0](im_tensor[None]) #Pass image through first layer\n",
    "    activations_2 = alexnet.features[:2](im_tensor[None]) #Pass image through first two layers"
   ]
  },
  {
   "cell_type": "code",
   "execution_count": null,
   "metadata": {},
   "outputs": [],
   "source": [
    "fig = figure(0, (20, 10))\n",
    "for i in range(4): #activations.shape[1]):\n",
    "    fig.add_subplot(2, 4, i+1)\n",
    "    feature_map = activations_1[0, i, :, :].detach().numpy()\n",
    "    imshow(feature_map); axis('off'); colorbar(); title('Before RelU')\n",
    "\n",
    "    fig.add_subplot(2, 4, 4+i+1)\n",
    "    feature_map = activations_2[0, i, :, :].detach().numpy()\n",
    "    imshow(feature_map); axis('off'); colorbar(); title('After RelU')"
   ]
  },
  {
   "cell_type": "markdown",
   "metadata": {},
   "source": [
    "- As you can see, ReLU \"clips\" everything below zero to zero, and leaves the positive numbers alone. "
   ]
  },
  {
   "cell_type": "markdown",
   "metadata": {},
   "source": [
    "### 2.4 More Convs and ReLUs\n",
    "---"
   ]
  },
  {
   "cell_type": "markdown",
   "metadata": {},
   "source": [
    "- One remarkable feature of deep learning is how consistent the operations are as we move through the network. \n",
    "- As you can see, we follow a very similar pattern of convolutional layers followed by activation layers as we move through the network.\n",
    "- More modern architectures like ResNet are even more consistent from layer to layer!"
   ]
  },
  {
   "cell_type": "code",
   "execution_count": null,
   "metadata": {},
   "outputs": [],
   "source": [
    "alexnet.features"
   ]
  },
  {
   "cell_type": "markdown",
   "metadata": {},
   "source": [
    "- Let's have a look at the output after 2 convolutions and 2 max pools:"
   ]
  },
  {
   "cell_type": "code",
   "execution_count": null,
   "metadata": {},
   "outputs": [],
   "source": [
    "with torch.no_grad():\n",
    "    activations = alexnet.features[:6](im_tensor[None]) #Pass image through first layer\n",
    "activations.shape"
   ]
  },
  {
   "cell_type": "code",
   "execution_count": null,
   "metadata": {},
   "outputs": [],
   "source": [
    "fig = figure(0, (24, 12))\n",
    "for i in range(192): #activations.shape[1]):\n",
    "    fig.add_subplot(10, 20, i+1)\n",
    "    feature_map = activations[0, i, :, :].detach().numpy()\n",
    "    #print(feature_map.min(), feature_map.max())\n",
    "    imshow(feature_map, vmin = 0, vmax = 20); axis('off');"
   ]
  },
  {
   "cell_type": "markdown",
   "metadata": {},
   "source": [
    "- Now after 4 convolutions:"
   ]
  },
  {
   "cell_type": "code",
   "execution_count": null,
   "metadata": {},
   "outputs": [],
   "source": [
    "with torch.no_grad():\n",
    "    activations = alexnet.features[:10](im_tensor[None]) #Pass image through first layer\n",
    "activations.shape"
   ]
  },
  {
   "cell_type": "code",
   "execution_count": null,
   "metadata": {},
   "outputs": [],
   "source": [
    "fig = figure(0, (24, 24))\n",
    "for i in range(256): #activations.shape[1]):\n",
    "    fig.add_subplot(16, 16, i+1)\n",
    "    feature_map = activations[0, i, :, :].detach().numpy()\n",
    "    imshow(feature_map, vmin = 0, vmax = 20); axis('off');"
   ]
  },
  {
   "cell_type": "markdown",
   "metadata": {},
   "source": [
    "- And finally after the 5th convolution:"
   ]
  },
  {
   "cell_type": "code",
   "execution_count": null,
   "metadata": {},
   "outputs": [],
   "source": [
    "with torch.no_grad():\n",
    "    activations = alexnet.features(im_tensor[None]) #Pass image through first layer\n",
    "activations.shape"
   ]
  },
  {
   "cell_type": "code",
   "execution_count": null,
   "metadata": {},
   "outputs": [],
   "source": [
    "fig = figure(0, (24, 24))\n",
    "for i in range(256): #activations.shape[1]):\n",
    "    fig.add_subplot(16, 16, i+1)\n",
    "    feature_map = activations[0, i, :, :].detach().numpy()\n",
    "    imshow(feature_map, vmin = 0, vmax = 20); axis('off');"
   ]
  },
  {
   "cell_type": "markdown",
   "metadata": {},
   "source": [
    "- Note that are activations become more sparse the deeper we go into our network.\n",
    "- There's some really cool papers/tools/research that use visualization like these to gain insight into what exactly these layers are computing. \n",
    "- Interestingly, some of these deeper layers learn recognizable concepts, such as faces!"
   ]
  },
  {
   "cell_type": "code",
   "execution_count": null,
   "metadata": {},
   "outputs": [],
   "source": [
    "from IPython.lib.display import YouTubeVideo\n",
    "YouTubeVideo('AgkfIQ4IGaM', width = 960, height = 540)"
   ]
  },
  {
   "cell_type": "markdown",
   "metadata": {},
   "source": [
    "### 2.5 Adaptive Pooling\n",
    "---"
   ]
  },
  {
   "cell_type": "markdown",
   "metadata": {},
   "source": [
    "- So, we hopefully have a sense for how what the convolutional layers of alexnet are doing. \n",
    "- After passing through the final convolutional layer, we're left with a tensor of dimension (1x256x6x6):"
   ]
  },
  {
   "cell_type": "code",
   "execution_count": null,
   "metadata": {},
   "outputs": [],
   "source": [
    "with torch.no_grad():\n",
    "    activations = alexnet.features(im_tensor[None]) #Pass image through first layer\n",
    "activations.shape"
   ]
  },
  {
   "cell_type": "markdown",
   "metadata": {},
   "source": [
    "- Note that after the convolutional layers in AlexNet, the pretrianed pytorch version includes a layer that was not part of the original architecture: `AdaptiveAvgPool2d(output_size=(6, 6))`. \n",
    "- Adaptive Average Pooling is a really convenient layer to have - unlike `nn.MaxPool2d`, where we pass in the strid and padding of our pooling filter, `nn.AdaptiveAvgPool2d` allows us to pass in the **dimension of the tensor we want out**. \n",
    "- So regardless of the dimension of the tensor that is passed in to `AdaptiveAvgPool2d(output_size=(6, 6))`, the output will be of size (batch_size, color_channels, 6, 6). \n",
    "- You may have noticed that our output here is *already* 6x6, so the `AdaptiveAvgPool2d` doesn't actually do anything. \n",
    "- The reason it's here it to allow us to pass in input images different from those the network was trained on. \n",
    "- If we change our input image size, the output of the final convolutional layer will change accordingly, and if we don't do adaptive average pooling at the end, we'll end up with tensors of different size.\n",
    "- This is problematic when our unrolled tensor meets our first linear (also known as fully connected) layer, because the input dimension is hard coded to 9216. \n",
    "- In short, adaptive average pooling allows us to change input image size without breaking our CNN!"
   ]
  },
  {
   "cell_type": "code",
   "execution_count": null,
   "metadata": {},
   "outputs": [],
   "source": [
    "activations_pooled = alexnet.avgpool(activations)"
   ]
  },
  {
   "cell_type": "code",
   "execution_count": null,
   "metadata": {},
   "outputs": [],
   "source": [
    "(activations_pooled - activations).abs().sum() #No change!"
   ]
  },
  {
   "cell_type": "code",
   "execution_count": null,
   "metadata": {},
   "outputs": [],
   "source": [
    "activations_pooled.shape"
   ]
  },
  {
   "cell_type": "markdown",
   "metadata": {},
   "source": [
    "- Now, before we can pass our tensor into our linear layers, we need to reshape or \"unravel\" it.\n",
    "- We can do this using the torch `view` method."
   ]
  },
  {
   "cell_type": "code",
   "execution_count": null,
   "metadata": {},
   "outputs": [],
   "source": [
    "activations_pooled = activations_pooled.view(-1, 256*6*6)\n",
    "activations_pooled.shape"
   ]
  },
  {
   "cell_type": "code",
   "execution_count": null,
   "metadata": {},
   "outputs": [],
   "source": [
    "alexnet.classifier"
   ]
  },
  {
   "cell_type": "markdown",
   "metadata": {},
   "source": [
    "### 2.5 Dropout\n",
    "---"
   ]
  },
  {
   "cell_type": "markdown",
   "metadata": {},
   "source": [
    "- Now, before we pass our tensor through our linear layers, notice that our tensorf will first go through `Dropout(p=0.5)`. \n",
    "- This is another key innovation from the AlexNet paper, and is a very simple and effective way to reduce overfitting. "
   ]
  },
  {
   "cell_type": "markdown",
   "metadata": {},
   "source": [
    "![](../graphics/dropout-01.png)"
   ]
  },
  {
   "cell_type": "code",
   "execution_count": null,
   "metadata": {},
   "outputs": [],
   "source": [
    "activations_dropout = nn.Dropout(0.5)(activations_pooled)\n",
    "print(activations_pooled[0, :25])\n",
    "print(activations_dropout[0, :25])"
   ]
  },
  {
   "cell_type": "code",
   "execution_count": null,
   "metadata": {},
   "outputs": [],
   "source": [
    "fig = figure(0, (18, 6))\n",
    "plot(activations_pooled[0, :30].detach().numpy().ravel(), marker = 'x')\n",
    "plot(activations_dropout[0, :30].detach().numpy().ravel()/2, marker = 'x'); \n",
    "grid(1); legend(['Before Dropout', 'After Dropout'], fontsize = 18)"
   ]
  },
  {
   "cell_type": "markdown",
   "metadata": {},
   "source": [
    "- The dropout idea is really simple - we randomly \"turn off\" neurons. Neurons that are off do not participate in the forward pass or in backpropogation. \n",
    "- The idea here is that this forces the network to learn more robust representation that do not rely on other neurons always \"being on\". \n",
    "- Deep Nets are very prone to overfitting, and dropout is a cheap and easy way to reduce this. \n",
    "- At test time, dropout is turned off, generally resulting in a nice performance boost - this is one of the reasons we run `model.eval()` before testing out model - this turns off dropout.\n",
    "- Finally, when dropout is implemented, most libraries will boost the remaining neurons to keep the overall mean output relatively consistent for a given layer. You can see in the plot above I hade to divide the dropped out tensor values by 2 (this is 1/dropout rate) to make the 2 outputs line up."
   ]
  },
  {
   "cell_type": "markdown",
   "metadata": {},
   "source": [
    "### 2.6 Fully Connected/Linear Layers\n",
    "---"
   ]
  },
  {
   "cell_type": "code",
   "execution_count": null,
   "metadata": {},
   "outputs": [],
   "source": [
    "alexnet.classifier"
   ]
  },
  {
   "cell_type": "markdown",
   "metadata": {},
   "source": [
    "- All that's left now is to pass our tensor through the 3 linear/fully connected layers at the end of alexnet. \n",
    "- In the time since the AlexNet publication, fully connected layers like this have fallen out of favor for computer vision problems - it turns out we can mostly get away wiht just convolutional layers!\n",
    "- Note that most of our weights are in the convolutional layers. \n",
    "- What exactly these layers are doing isn's as easy to make intuitive sense of, relative to the convolutional layers. "
   ]
  },
  {
   "cell_type": "code",
   "execution_count": null,
   "metadata": {},
   "outputs": [],
   "source": [
    "w = alexnet.classifier[1].weight\n",
    "w.shape"
   ]
  },
  {
   "cell_type": "code",
   "execution_count": null,
   "metadata": {},
   "outputs": [],
   "source": [
    "fig = figure(0, (18, 8))\n",
    "imshow(w.detach()); colorbar();"
   ]
  },
  {
   "cell_type": "markdown",
   "metadata": {},
   "source": [
    "- Here's the first set of fully connected weights, all 37,748,736 of them!\n",
    "- From this perspective, it's not so obvoius what they're doing. The thing to know for now is that just our unravelled tensor of length 9216 is multiplied by this huge matrix, and the result is passed on to the next  layer. \n",
    "- Let's go ahead and pass our pooled and unraveled activations through all our linear layers:"
   ]
  },
  {
   "cell_type": "code",
   "execution_count": null,
   "metadata": {},
   "outputs": [],
   "source": [
    "yhat = alexnet.classifier(activations_pooled)"
   ]
  },
  {
   "cell_type": "code",
   "execution_count": null,
   "metadata": {},
   "outputs": [],
   "source": [
    "idx2label[torch.argmax(yhat).item()]"
   ]
  },
  {
   "cell_type": "markdown",
   "metadata": {},
   "source": [
    "- Alright, we made it all the way through!\n",
    "- Note that we skipped the softmax step this time. \n",
    "- Since softmax is a **monotonic** function of it's inputs, we don't actually need to apply softmax before taking the argmax. \n",
    "- Softmax is nice to have when we want probability estimates that nicely add to one, and can give us more interpretable results. "
   ]
  },
  {
   "cell_type": "markdown",
   "metadata": {},
   "source": [
    "### 2.7 AlexNet Results\n",
    "---"
   ]
  },
  {
   "cell_type": "markdown",
   "metadata": {},
   "source": [
    "![](../graphics/alexnet_results-01.png)"
   ]
  },
  {
   "cell_type": "markdown",
   "metadata": {},
   "source": [
    "### 2.8. Transfer Learning\n",
    "---"
   ]
  },
  {
   "cell_type": "markdown",
   "metadata": {},
   "source": [
    "- One particularly exciting thing about the AlexNet results is how adaptable deep models are to other computer vision problems. \n",
    "- [Razavian et. al.](https://arxiv.org/pdf/1403.6382.pdf) and [Donahue et. al.](https://arxiv.org/pdf/1310.1531.pdf) show that \"off-the-shelf\" CNNs plus a simple linear classifier outperform existing state of the art accross many computer vision tasks. \n",
    "- Since the AlexNet publication, researchers have found more and more applications that can be solved using a pretrained \"CNN Backbone\" like alexnet. "
   ]
  },
  {
   "cell_type": "markdown",
   "metadata": {},
   "source": [
    "![](../graphics/transfer_learning.png)"
   ]
  },
  {
   "cell_type": "markdown",
   "metadata": {},
   "source": [
    "![](../graphics/spacer_small.png)"
   ]
  },
  {
   "cell_type": "markdown",
   "metadata": {},
   "source": [
    "## 3. Data Augmentation\n",
    "---"
   ]
  },
  {
   "cell_type": "markdown",
   "metadata": {},
   "source": [
    "- There's one more improtant idea from the AlexNet paper we need to discuss.\n",
    "- This idea is not unique to this paper, but Geoff Hinton and his collaborators did play a big role in popularizing this technique. \n",
    "- Data augmentation is a great way to make our dataset appear larger than it actually is. \n",
    "- By implementing **label preserving transforms** on our images such as crops, shifts, and small color changes, we can reduce overfitting. \n",
    "- See [Goodfellow 7.4](https://www.deeplearningbook.org/contents/regularization.html) for more details. "
   ]
  },
  {
   "cell_type": "markdown",
   "metadata": {},
   "source": [
    "![](../graphics/data_augmentation-01.png)"
   ]
  },
  {
   "cell_type": "markdown",
   "metadata": {},
   "source": [
    "- Let's have a look at how we can augment our data in Pytorch"
   ]
  },
  {
   "cell_type": "code",
   "execution_count": null,
   "metadata": {},
   "outputs": [],
   "source": [
    "import numpy as np\n",
    "from matplotlib.pyplot import *"
   ]
  },
  {
   "cell_type": "code",
   "execution_count": null,
   "metadata": {},
   "outputs": [],
   "source": [
    "import torch\n",
    "from PIL import Image\n",
    "im = Image.open('../data_sample/golf_ball.JPEG')"
   ]
  },
  {
   "cell_type": "code",
   "execution_count": null,
   "metadata": {},
   "outputs": [],
   "source": [
    "im"
   ]
  },
  {
   "cell_type": "code",
   "execution_count": null,
   "metadata": {},
   "outputs": [],
   "source": [
    "from torchvision import transforms\n",
    "tfms = transforms.Compose([transforms.Resize(256),\n",
    "                           transforms.RandomRotation(degrees = 5),\n",
    "                           transforms.RandomCrop((224, 224)), \n",
    "                           transforms.RandomHorizontalFlip(), \n",
    "                           transforms.ColorJitter(0.1, 0.1, 0.1, 0.1)]) "
   ]
  },
  {
   "cell_type": "code",
   "execution_count": null,
   "metadata": {},
   "outputs": [],
   "source": [
    "fig = figure(0, (20, 8))\n",
    "for i in range(10):\n",
    "    im_aug = tfms(im)\n",
    "    fig.add_subplot(2, 5, i+1)\n",
    "    imshow(np.asarray(im_aug)); axis('off')"
   ]
  },
  {
   "cell_type": "markdown",
   "metadata": {},
   "source": [
    "- Using this transform code, we can perform augmentation at trainig time, effectively making it so that our network never sees exactly the same image twice. "
   ]
  },
  {
   "cell_type": "markdown",
   "metadata": {},
   "source": [
    "![](../graphics/spacer_small.png)"
   ]
  },
  {
   "cell_type": "markdown",
   "metadata": {},
   "source": [
    "## 4. A Little Historical Perspective on the Rise of Deep Learning\n",
    "---\n",
    "\n",
    "![](../graphics/lenet_vs_alexnet-01.png)"
   ]
  },
  {
   "cell_type": "markdown",
   "metadata": {},
   "source": [
    "**References/Assumptions**\n",
    "- Slide inspired from min 38 of [great talk from Andrej Kerpathy](https://youtu.be/f6ZKaBm3cXU).\n",
    "- 267 MHz Pentium II single core processor, 1 floating point operation per clock cycle (shoot me an email if you have a better estimate. A couple somewhat relevant sources: [1](https://www.alternatewars.com/BBOW/Computing/Computing_Power.htm) [2](https://projects.ncsu.edu/hpc/Courses/1arch.html)\n",
    "- GTX 580 GPU FLOPS from [here](https://www.techpowerup.com/gpu-specs/geforce-gtx-580.c270).\n",
    "- Back of the envelope LeNet math: `5*5*1*28*28*6*2 + 5*5*6*10*10*16*2 + 16*5*5*120*2 + 120*84*2 + 84*2`\n"
   ]
  },
  {
   "cell_type": "markdown",
   "metadata": {},
   "source": [
    "**What took so long?**\n",
    "- As you can see above, remarkably little changed algorithmically between 1998 and 2012. \n",
    "- ReLU and dropout are helpful, but not critical for deep learning. \n",
    "- And as [Andrej Kerpathy](https://youtu.be/f6ZKaBm3cXU) points out, these two changes both just involve setting something to zero! :)\n",
    "- In fact you could argue that, **everything we needed for deep learning was in place and known in 1998!**\n",
    "- Goodfellow has some interesting things to say about this: \n"
   ]
  },
  {
   "cell_type": "markdown",
   "metadata": {},
   "source": [
    ">\"At this point [2006], deep networks were generally believed to be very diﬃcult to train. We now know that algorithms that have existed since the 1980s work quitewell, but this was not apparent circa 2006. The issue is perhaps simply that these algorithms were too computationally costly to allow much experimentation withthe hardware available at the time.\"*\n",
    "- Deep Learning, Ian Goodfellow, Section 1.2.1"
   ]
  },
  {
   "cell_type": "markdown",
   "metadata": {},
   "source": [
    ">\"Convolutional nets were some of the ﬁrst working deep networks trained with back-propagation. It is not entirely clear why convolutional networks succeeded when general back-propagation networks were considered to have failed. It may simply be that convolutional networks were more computationally eﬃcient than fully connected networks, so it was easier to run multiple experiments with them and tune their implementation and hyperparameters. Larger networks also seem to be easier to train. With modern hardware, large fully connected networks appear to perform reasonably on many tasks, even when using datasets that were available and activation functions that were popular during the times when fully connected networks were believed not to work well. It may be that the primary barriers to the success of neural networks were psychological (practitioners did not expect neural networks to work, so they did not make a serious eﬀort to use neural networks). Whatever the case, it is fortunate that convolutional networksperformed well decades ago. In many ways, they carried the torch for the rest ofdeep learning and paved the way to the acceptance of neural networks in general.\" \n",
    "- Deep Learning, Ian Goodfellow, Section 9.11"
   ]
  }
 ],
 "metadata": {
  "kernelspec": {
   "display_name": "Python 3",
   "language": "python",
   "name": "python3"
  },
  "language_info": {
   "codemirror_mode": {
    "name": "ipython",
    "version": 3
   },
   "file_extension": ".py",
   "mimetype": "text/x-python",
   "name": "python",
   "nbconvert_exporter": "python",
   "pygments_lexer": "ipython3",
   "version": "3.7.3"
  }
 },
 "nbformat": 4,
 "nbformat_minor": 2
}
