{
 "cells": [
  {
   "cell_type": "markdown",
   "metadata": {},
   "source": [
    "# **Introduction to PyTorch**"
   ]
  },
  {
   "cell_type": "markdown",
   "metadata": {},
   "source": [
    "Recommended [Jupyter Theme](https://github.com/dunovank/jupyter-themes) for presenting this notebook:\n",
    "````\n",
    "jt -t grade3 -cellw=90% -fs=20 -tfs=20 -ofs=20\n",
    "````"
   ]
  },
  {
   "cell_type": "markdown",
   "metadata": {},
   "source": [
    "![](../graphics/PyTorch.png)"
   ]
  },
  {
   "cell_type": "markdown",
   "metadata": {},
   "source": [
    "- PyTorch is a machine learning library developed primarily by Facebook’s artificial intelligence group\n",
    "- PyTorch is free and open-source, released under the BSD licenses\n",
    "- Offers fast and efficient tensor and matrix math (like numpy), with extensive support for GPU (unlike numpy). \n",
    "- Includes automatic symbolic gradient computation."
   ]
  },
  {
   "cell_type": "markdown",
   "metadata": {},
   "source": [
    "## 1. Baseline Network in Numpy\n",
    "---"
   ]
  },
  {
   "cell_type": "markdown",
   "metadata": {},
   "source": [
    "- In our [Neural Networks Demystified](https://github.com/unccv/neural_networks) module, we built a simple neural network (multi-layer perceptron) in Numpy. \n",
    "- Our `Neural_Network` ended up requiring ~60 lines, and we needed another ~20 lines to train our network:"
   ]
  },
  {
   "cell_type": "code",
   "execution_count": 1,
   "metadata": {},
   "outputs": [],
   "source": [
    "import numpy as np\n",
    "from matplotlib.pyplot import *"
   ]
  },
  {
   "cell_type": "code",
   "execution_count": 2,
   "metadata": {},
   "outputs": [],
   "source": [
    "class Neural_Network(object):\n",
    "    def __init__(self, inputLayerSize = 2, outputLayerSize = 1, hiddenLayerSize = 3):        \n",
    "        #Define Hyperparameters\n",
    "        self.inputLayerSize = inputLayerSize\n",
    "        self.outputLayerSize = outputLayerSize\n",
    "        self.hiddenLayerSize = hiddenLayerSize\n",
    "        \n",
    "        #Weights (parameters)\n",
    "        self.W1 = np.random.randn(self.inputLayerSize,self.hiddenLayerSize)\n",
    "        self.W2 = np.random.randn(self.hiddenLayerSize,self.outputLayerSize)\n",
    "        \n",
    "    def forward(self, X):\n",
    "        #Propogate inputs though network\n",
    "        self.z2 = np.dot(X, self.W1)\n",
    "        self.a2 = self.sigmoid(self.z2)\n",
    "        self.z3 = np.dot(self.a2, self.W2)\n",
    "        yHat = self.sigmoid(self.z3) \n",
    "        return yHat\n",
    "        \n",
    "    def sigmoid(self, z):\n",
    "        #Apply sigmoid activation function to scalar, vector, or matrix\n",
    "        return 1/(1+np.exp(-z))\n",
    "    \n",
    "    def sigmoidPrime(self,z):\n",
    "        #Gradient of sigmoid\n",
    "        return np.exp(-z)/((1+np.exp(-z))**2)\n",
    "    \n",
    "    def costFunction(self, X, y):\n",
    "        #Compute cost for given X,y, use weights already stored in class.\n",
    "        self.yHat = self.forward(X)\n",
    "        J = 0.5*sum((y-self.yHat)**2)\n",
    "        return J\n",
    "        \n",
    "    def costFunctionPrime(self, X, y):\n",
    "        #Compute derivative with respect to W and W2 for a given X and y:\n",
    "        self.yHat = self.forward(X)\n",
    "        \n",
    "        delta3 = np.multiply(-(y-self.yHat), self.sigmoidPrime(self.z3))\n",
    "        dJdW2 = np.dot(self.a2.T, delta3)\n",
    "        \n",
    "        delta2 = np.dot(delta3, self.W2.T)*self.sigmoidPrime(self.z2)\n",
    "        dJdW1 = np.dot(X.T, delta2)  \n",
    "        \n",
    "        return dJdW1, dJdW2\n",
    "    \n",
    "    #Helper Functions for interacting with other classes:\n",
    "    def getParams(self):\n",
    "        #Get W1 and W2 unrolled into vector:\n",
    "        params = np.concatenate((self.W1.ravel(), self.W2.ravel()))\n",
    "        return params\n",
    "    \n",
    "    def setParams(self, params):\n",
    "        #Set W1 and W2 using single paramater vector.\n",
    "        W1_start = 0\n",
    "        W1_end = self.hiddenLayerSize * self.inputLayerSize\n",
    "        self.W1 = np.reshape(params[W1_start:W1_end], (self.inputLayerSize , self.hiddenLayerSize))\n",
    "        W2_end = W1_end + self.hiddenLayerSize*self.outputLayerSize\n",
    "        self.W2 = np.reshape(params[W1_end:W2_end], (self.hiddenLayerSize, self.outputLayerSize))\n",
    "        \n",
    "    def computeGradients(self, X, y):\n",
    "        dJdW1, dJdW2 = self.costFunctionPrime(X, y)\n",
    "        return np.concatenate((dJdW1.ravel(), dJdW2.ravel()))"
   ]
  },
  {
   "cell_type": "code",
   "execution_count": 3,
   "metadata": {},
   "outputs": [],
   "source": [
    "# X = (hours sleeping, hours studying), y = Score on test\n",
    "X = np.array(([3,5], [5,1], [10,2], [6,1.5]), dtype=float)\n",
    "y = np.array(([75], [82], [93], [70]), dtype=float)\n",
    "\n",
    "#Normalize Data\n",
    "X = X/np.amax(X, axis=0)\n",
    "y = y/100 #Max test score is 100"
   ]
  },
  {
   "cell_type": "markdown",
   "metadata": {},
   "source": [
    "Let's use plain gradient descent to estabilish a baseline here:"
   ]
  },
  {
   "cell_type": "code",
   "execution_count": 10,
   "metadata": {},
   "outputs": [],
   "source": [
    "num_iterations = 1000\n",
    "lr = 1e-2\n",
    "\n",
    "losses = []\n",
    "NN = Neural_Network()\n",
    "for i in range(num_iterations):\n",
    "    grads = NN.computeGradients(X,y)\n",
    "    params = NN.getParams()\n",
    "    NN.setParams(params - lr*grads)\n",
    "    losses.append(NN.costFunction(X,y ))"
   ]
  },
  {
   "cell_type": "code",
   "execution_count": 11,
   "metadata": {},
   "outputs": [
    {
     "data": {
      "image/png": "[encoded data removed]",
      "text/plain": [
       "<Figure size 864x432 with 1 Axes>"
      ]
     },
     "metadata": {
      "needs_background": "light"
     },
     "output_type": "display_data"
    }
   ],
   "source": [
    "fig = figure(0, (12,6))\n",
    "plot(losses, linewidth = 3); grid(1); xlabel('iterations'); ylabel('loss');"
   ]
  },
  {
   "cell_type": "code",
   "execution_count": 6,
   "metadata": {},
   "outputs": [],
   "source": [
    "# yhat = NN.forward(X)\n",
    "# print(y.T, yhat.T)"
   ]
  },
  {
   "cell_type": "markdown",
   "metadata": {},
   "source": [
    "## 2. PyTorch as \"Numpy with GPU Support\"\n",
    "----"
   ]
  },
  {
   "cell_type": "markdown",
   "metadata": {},
   "source": [
    "- PyTorch offers some really nice high-level functions that we'll get into shortly, but if you're familiar with Numpy, it can be helpful to first think of PyTorch as \"Numpy with GPU Support\", allowing us to train large (and deep) neural networks much faster due to the massive parallelism of modern GPUs.\n",
    "- PyTorch replaces the numpy multidimensional array `numpy.ndarray` with `torch.tensor`.\n",
    "- Let's have a look at how we can create and perform operations on Pytorch tensors. \n",
    "- Notice how syntactically similar these operations are to numpy operations - this is part of what people mean when they describe Pytorch as \"Pythonic\"."
   ]
  },
  {
   "cell_type": "code",
   "execution_count": 12,
   "metadata": {},
   "outputs": [],
   "source": [
    "import torch"
   ]
  },
  {
   "cell_type": "code",
   "execution_count": 13,
   "metadata": {},
   "outputs": [
    {
     "data": {
      "text/plain": [
       "tensor([[0., 0., 0.],\n",
       "        [0., 0., 0.],\n",
       "        [0., 0., 0.]])"
      ]
     },
     "execution_count": 13,
     "metadata": {},
     "output_type": "execute_result"
    }
   ],
   "source": [
    "a = torch.zeros(3,3)\n",
    "a"
   ]
  },
  {
   "cell_type": "code",
   "execution_count": 14,
   "metadata": {},
   "outputs": [
    {
     "data": {
      "text/plain": [
       "torch.Size([3, 3])"
      ]
     },
     "execution_count": 14,
     "metadata": {},
     "output_type": "execute_result"
    }
   ],
   "source": [
    "a.shape"
   ]
  },
  {
   "cell_type": "code",
   "execution_count": 15,
   "metadata": {},
   "outputs": [
    {
     "data": {
      "text/plain": [
       "tensor([[1., 1., 1.],\n",
       "        [1., 1., 1.],\n",
       "        [1., 1., 1.]])"
      ]
     },
     "execution_count": 15,
     "metadata": {},
     "output_type": "execute_result"
    }
   ],
   "source": [
    "b = torch.ones(3,3)\n",
    "b"
   ]
  },
  {
   "cell_type": "markdown",
   "metadata": {},
   "source": [
    "We can perform mathematical oprations on our tensors using methods from the Pytorch library, or by using simple python syntax as we would with numpy:"
   ]
  },
  {
   "cell_type": "code",
   "execution_count": 16,
   "metadata": {},
   "outputs": [
    {
     "data": {
      "text/plain": [
       "tensor([[1., 1., 1.],\n",
       "        [1., 1., 1.],\n",
       "        [1., 1., 1.]])"
      ]
     },
     "execution_count": 16,
     "metadata": {},
     "output_type": "execute_result"
    }
   ],
   "source": [
    "torch.add(a, b)"
   ]
  },
  {
   "cell_type": "code",
   "execution_count": 17,
   "metadata": {},
   "outputs": [
    {
     "data": {
      "text/plain": [
       "tensor([[1., 1., 1.],\n",
       "        [1., 1., 1.],\n",
       "        [1., 1., 1.]])"
      ]
     },
     "execution_count": 17,
     "metadata": {},
     "output_type": "execute_result"
    }
   ],
   "source": [
    "a+b"
   ]
  },
  {
   "cell_type": "markdown",
   "metadata": {},
   "source": [
    "Happily, we can use Numpy style indexing on torch tensors:"
   ]
  },
  {
   "cell_type": "code",
   "execution_count": 18,
   "metadata": {},
   "outputs": [
    {
     "data": {
      "text/plain": [
       "tensor([0., 0., 0.])"
      ]
     },
     "execution_count": 18,
     "metadata": {},
     "output_type": "execute_result"
    }
   ],
   "source": [
    "a[:,1]"
   ]
  },
  {
   "cell_type": "markdown",
   "metadata": {},
   "source": [
    "One syntax difference from Numpy that you'll encounter frequently is `torch.view` instead of `numpy.reshape`:"
   ]
  },
  {
   "cell_type": "code",
   "execution_count": 19,
   "metadata": {},
   "outputs": [
    {
     "data": {
      "text/plain": [
       "tensor([0., 0., 0., 0., 0., 0., 0., 0., 0.])"
      ]
     },
     "execution_count": 19,
     "metadata": {},
     "output_type": "execute_result"
    }
   ],
   "source": [
    "a.view(9)"
   ]
  },
  {
   "cell_type": "markdown",
   "metadata": {},
   "source": [
    "We can also easilty convert between numpy arrays and torch tensors:"
   ]
  },
  {
   "cell_type": "code",
   "execution_count": 20,
   "metadata": {},
   "outputs": [
    {
     "data": {
      "text/plain": [
       "array([[0., 0., 0.],\n",
       "       [0., 0., 0.],\n",
       "       [0., 0., 0.]], dtype=float32)"
      ]
     },
     "execution_count": 20,
     "metadata": {},
     "output_type": "execute_result"
    }
   ],
   "source": [
    "#Torch to numpy\n",
    "a.numpy()"
   ]
  },
  {
   "cell_type": "code",
   "execution_count": 21,
   "metadata": {},
   "outputs": [
    {
     "data": {
      "text/plain": [
       "tensor([[-0.7034, -0.9618, -0.7422],\n",
       "        [-0.4855,  2.2648, -1.1011],\n",
       "        [ 1.2325, -1.1144,  0.2061]], dtype=torch.float64)"
      ]
     },
     "execution_count": 21,
     "metadata": {},
     "output_type": "execute_result"
    }
   ],
   "source": [
    "#Numpy to Torch:\n",
    "torch.tensor(np.random.randn(3,3))"
   ]
  },
  {
   "cell_type": "markdown",
   "metadata": {},
   "source": [
    "Finally, moving our data to and from GPU is really simple using the PyTorch `.to` method."
   ]
  },
  {
   "cell_type": "code",
   "execution_count": 22,
   "metadata": {},
   "outputs": [],
   "source": [
    "# Only runs if cuda is available\n",
    "if torch.cuda.is_available():\n",
    "    device = torch.device(\"cuda\")          # a CUDA device object\n",
    "    a = a.to(device)                       # or just use strings ``.to(\"cuda\")``\n",
    "    b = b.to(device)\n",
    "    c = a + b                              # Now this operation will happen on GPU\n",
    "    print(c)\n",
    "    print(c.to(\"cpu\"))                     #Bring back to CPU     "
   ]
  },
  {
   "cell_type": "markdown",
   "metadata": {},
   "source": [
    "## 3. Simple Neural Network Forward Pass in Pytorch\n",
    "---"
   ]
  },
  {
   "cell_type": "markdown",
   "metadata": {},
   "source": [
    "- Switching our numpy nueral network to Pytorch is really simple. \n",
    "- We'll start by just replacing our numpy variables and operations with their PyTorch counterparts\n",
    "- We'll start with our forward methods, and then use some higher level Torch tools to streamline our backpropogation and training"
   ]
  },
  {
   "cell_type": "code",
   "execution_count": 23,
   "metadata": {},
   "outputs": [],
   "source": [
    "class Neural_Network_Torch(object):\n",
    "    def __init__(self, inputLayerSize = 2, outputLayerSize = 1, hiddenLayerSize = 3):        \n",
    "        #Define Hyperparameters\n",
    "        self.inputLayerSize = inputLayerSize\n",
    "        self.outputLayerSize = outputLayerSize\n",
    "        self.hiddenLayerSize = hiddenLayerSize\n",
    "        \n",
    "        #Weights (parameters)\n",
    "        self.W1 = torch.randn(self.inputLayerSize, self.hiddenLayerSize)\n",
    "        self.W2 = torch.randn(self.hiddenLayerSize, self.outputLayerSize)\n",
    "        \n",
    "    def forward(self, X):\n",
    "        #Propogate inputs though network\n",
    "        self.z2 = torch.mm(X, self.W1)\n",
    "        self.a2 = self.sigmoid(self.z2)\n",
    "        self.z3 = torch.mm(self.a2, self.W2)\n",
    "        yHat = self.sigmoid(self.z3) \n",
    "        return yHat\n",
    "        \n",
    "    def sigmoid(self, z):\n",
    "        #Apply sigmoid activation function to scalar, vector, or matrix\n",
    "        return 1/(1+torch.exp(-z))"
   ]
  },
  {
   "cell_type": "markdown",
   "metadata": {},
   "source": [
    "- How many lines did we change?\n",
    "- What do you think `torch.mm` does?\n",
    "- Let's test our Pytorch Network"
   ]
  },
  {
   "cell_type": "code",
   "execution_count": 24,
   "metadata": {},
   "outputs": [],
   "source": [
    "#Let's call our Pytorch Nueral Network \"NT\"\n",
    "NT = Neural_Network_Torch()\n",
    "\n",
    "#Must pass in a PyTorch Tensor into our PyTorch network:\n",
    "X_tensor = torch.tensor(X, dtype = torch.float)\n",
    "\n",
    "#Go ahead and make a tensor version of our prediciton targets:\n",
    "y_tensor = torch.tensor(y, dtype = torch.float)"
   ]
  },
  {
   "cell_type": "code",
   "execution_count": 25,
   "metadata": {},
   "outputs": [
    {
     "data": {
      "text/plain": [
       "tensor([[0.8394],\n",
       "        [0.8030],\n",
       "        [0.8067],\n",
       "        [0.8064]])"
      ]
     },
     "execution_count": 25,
     "metadata": {},
     "output_type": "execute_result"
    }
   ],
   "source": [
    "NT.forward(X_tensor)"
   ]
  },
  {
   "cell_type": "markdown",
   "metadata": {},
   "source": [
    "- Note that these outputs won't exactly match our numpy neural network's outputs, because each network has a different random intialization."
   ]
  },
  {
   "cell_type": "markdown",
   "metadata": {},
   "source": [
    "## 3. Automatic Differentiation in PyTorch\n",
    "---"
   ]
  },
  {
   "cell_type": "markdown",
   "metadata": {},
   "source": [
    "- This is where libraries like PyTorch and Tensorflow get really cool. \n",
    "- In our [Neural Networks Demystified](https://github.com/unccv/neural_networks) module, we spend **alot** of time learning how to compute the gradient of our loss function with respect to our weights, allowing us to train our neural network by **gradient descent**. \n",
    "- Further, we only did this for **one architecture**, if we had to manually recompute our gradients each time we changed our architecture - this would become quite time consuming!\n",
    "- So far we discussed how PyTorch tensors can be used just like numpy arrays, but can be easily moved the GPU for parallel/accelerated computations. \n",
    "- PyTorch tensors also support [automatic differentiation](https://pytorch.org/tutorials/beginner/blitz/autograd_tutorial.html#sphx-glr-beginner-blitz-autograd-tutorial-py), which is going to allow us to **automatically compute gradients** across our neural network.\n",
    "- Let's see how this works with a simple example. Let's start with math, and then move to code. First, find $\\frac{\\partial B}{\\partial A}$:"
   ]
  },
  {
   "cell_type": "markdown",
   "metadata": {},
   "source": [
    "$$\n",
    "A = \\begin{bmatrix}\n",
    "    a_1\\\\\n",
    "    a_2\\\\\n",
    "    a_3\\\\\n",
    "    \\end{bmatrix}\n",
    "\\quad\\quad\n",
    "B = |A|^2 = \\sum a_i^2 = a_1^2 + a_2^2 + a_3^2\n",
    "\\quad\\quad\n",
    "\\frac{\\partial B}{\\partial A} = \n",
    "\\begin{bmatrix}\n",
    "    \\frac{\\partial B}{\\partial a_1}\\\\\n",
    "    \\frac{\\partial B}{\\partial a_2}\\\\\n",
    "    \\frac{\\partial B}{\\partial a_3}\\\\\n",
    "\\end{bmatrix}\n",
    "= ?\n",
    "$$\n"
   ]
  },
  {
   "cell_type": "markdown",
   "metadata": {},
   "source": [
    "![](../graphics/spacer_small.png)"
   ]
  },
  {
   "cell_type": "markdown",
   "metadata": {},
   "source": [
    "![](../graphics/spacer_small.png)"
   ]
  },
  {
   "cell_type": "markdown",
   "metadata": {},
   "source": [
    "![](../graphics/spacer_small.png)"
   ]
  },
  {
   "cell_type": "markdown",
   "metadata": {},
   "source": [
    "----"
   ]
  },
  {
   "cell_type": "markdown",
   "metadata": {},
   "source": [
    "- Answer: \n",
    "$$\n",
    "\\frac{\\partial B}{\\partial A} = \\begin{bmatrix}\n",
    "    2 a_1\\\\\n",
    "    2 a_2\\\\\n",
    "    2 a_3\\\\\n",
    "\\end{bmatrix}\n",
    "$$"
   ]
  },
  {
   "cell_type": "markdown",
   "metadata": {},
   "source": [
    "---"
   ]
  },
  {
   "cell_type": "markdown",
   "metadata": {},
   "source": [
    "- Now, let's see how Pytorch can automatically compute this for us:"
   ]
  },
  {
   "cell_type": "code",
   "execution_count": 26,
   "metadata": {},
   "outputs": [],
   "source": [
    "import torch"
   ]
  },
  {
   "cell_type": "code",
   "execution_count": 27,
   "metadata": {},
   "outputs": [
    {
     "data": {
      "text/plain": [
       "tensor([[0.4955],\n",
       "        [1.4662],\n",
       "        [0.2889]], requires_grad=True)"
      ]
     },
     "execution_count": 27,
     "metadata": {},
     "output_type": "execute_result"
    }
   ],
   "source": [
    "#By setting require_grad = True, a will also keep track of its own gradient!\n",
    "A = torch.randn(3, 1, requires_grad = True) \n",
    "A"
   ]
  },
  {
   "cell_type": "code",
   "execution_count": 28,
   "metadata": {},
   "outputs": [],
   "source": [
    "B = torch.sum(A**2)"
   ]
  },
  {
   "cell_type": "code",
   "execution_count": 29,
   "metadata": {},
   "outputs": [
    {
     "data": {
      "text/plain": [
       "tensor(2.4787, grad_fn=<SumBackward0>)"
      ]
     },
     "execution_count": 29,
     "metadata": {},
     "output_type": "execute_result"
    }
   ],
   "source": [
    "B"
   ]
  },
  {
   "cell_type": "markdown",
   "metadata": {},
   "source": [
    "Alright, ready?"
   ]
  },
  {
   "cell_type": "code",
   "execution_count": 30,
   "metadata": {},
   "outputs": [],
   "source": [
    "B.backward()"
   ]
  },
  {
   "cell_type": "markdown",
   "metadata": {},
   "source": [
    "- With this one line, Pytorch has both computed our gradient function analytically, and computed the value of $\\frac{\\partial B}{\\partial A}$ for our specific values of $A$ and $B$!\n",
    "- Gradients are stored in the `.grad` field of our tensors:"
   ]
  },
  {
   "cell_type": "code",
   "execution_count": 31,
   "metadata": {},
   "outputs": [
    {
     "data": {
      "text/plain": [
       "tensor([[0.9909],\n",
       "        [2.9324],\n",
       "        [0.5779]])"
      ]
     },
     "execution_count": 31,
     "metadata": {},
     "output_type": "execute_result"
    }
   ],
   "source": [
    "A.grad"
   ]
  },
  {
   "cell_type": "code",
   "execution_count": 32,
   "metadata": {},
   "outputs": [
    {
     "data": {
      "text/plain": [
       "tensor([[0.9909],\n",
       "        [2.9324],\n",
       "        [0.5779]], grad_fn=<MulBackward0>)"
      ]
     },
     "execution_count": 32,
     "metadata": {},
     "output_type": "execute_result"
    }
   ],
   "source": [
    "#Does PyTorch's gradient match our analytical gradient?\n",
    "2*A"
   ]
  },
  {
   "cell_type": "markdown",
   "metadata": {},
   "source": [
    "- Finally, an important point about how **gradients accumulate**.\n",
    "- This next step may seem a little strange, but happens in training looks all the time\n",
    "- If we re-declare our function `B = torch.sum(A**2)` (we could also pass `retain_graph=True` into our first `backward` call), and call 1backward()` again, watch what happens to our gradients:"
   ]
  },
  {
   "cell_type": "code",
   "execution_count": 33,
   "metadata": {},
   "outputs": [],
   "source": [
    "B = torch.sum(A**2)\n",
    "B.backward()"
   ]
  },
  {
   "cell_type": "code",
   "execution_count": 34,
   "metadata": {},
   "outputs": [
    {
     "data": {
      "text/plain": [
       "tensor([[1.9818],\n",
       "        [5.8648],\n",
       "        [1.1558]])"
      ]
     },
     "execution_count": 34,
     "metadata": {},
     "output_type": "execute_result"
    }
   ],
   "source": [
    "A.grad"
   ]
  },
  {
   "cell_type": "markdown",
   "metadata": {},
   "source": [
    "- Why did our gradients change like this?\n",
    "- Why do you think this was chosen to be the **default pytorch behavior?**\n",
    "- Why might this be problematic when training a neural network with backpropogation?"
   ]
  },
  {
   "cell_type": "markdown",
   "metadata": {},
   "source": [
    "![](../graphics/spacer_small.png)"
   ]
  },
  {
   "cell_type": "markdown",
   "metadata": {},
   "source": [
    "---"
   ]
  },
  {
   "cell_type": "markdown",
   "metadata": {},
   "source": [
    "- As we train our neural network, we need to be aware of this behavior - PyTorch tensors will **accumulate** all gradients. \n",
    "- Each time we call `.backward`, new gradient values will be added to old ones. \n",
    "- If this is not the behavior we want, we can reset our accumulators with `.grad.zero_`:"
   ]
  },
  {
   "cell_type": "code",
   "execution_count": 35,
   "metadata": {},
   "outputs": [
    {
     "data": {
      "text/plain": [
       "tensor([[1.9818],\n",
       "        [5.8648],\n",
       "        [1.1558]])"
      ]
     },
     "execution_count": 35,
     "metadata": {},
     "output_type": "execute_result"
    }
   ],
   "source": [
    "A.grad"
   ]
  },
  {
   "cell_type": "code",
   "execution_count": 36,
   "metadata": {},
   "outputs": [],
   "source": [
    "A.grad.zero_(); #Note that \"_\" at the end of most pytorch operators means \"perform in place\""
   ]
  },
  {
   "cell_type": "code",
   "execution_count": 37,
   "metadata": {},
   "outputs": [
    {
     "data": {
      "text/plain": [
       "tensor([[0.],\n",
       "        [0.],\n",
       "        [0.]])"
      ]
     },
     "execution_count": 37,
     "metadata": {},
     "output_type": "execute_result"
    }
   ],
   "source": [
    "A.grad"
   ]
  },
  {
   "cell_type": "markdown",
   "metadata": {},
   "source": [
    "- So we've now seen how PyTorch can automatically compute and store gradients.\n",
    "- This is, of course, a really simple example\n",
    "- What's really exciting here is that using Pytorch, we can chain together many operations, and PyTorch will automatically compute the gradient accross **all the operations we chain together.**\n",
    "- In the next section, we'll see how this works on our simple Pytorch neural network."
   ]
  },
  {
   "cell_type": "markdown",
   "metadata": {},
   "source": [
    "## 4. Let's Use Pytorch to Compute the Gradients of Our Network\n",
    "---"
   ]
  },
  {
   "cell_type": "code",
   "execution_count": 116,
   "metadata": {},
   "outputs": [],
   "source": [
    "class Neural_Network_Torch(object):\n",
    "    def __init__(self, inputLayerSize = 2, outputLayerSize = 1, hiddenLayerSize = 3):        \n",
    "        #Weights (parameters)\n",
    "        self.W1 = torch.randn(inputLayerSize, hiddenLayerSize, requires_grad = True)\n",
    "        self.W2 = torch.randn(hiddenLayerSize, outputLayerSize, requires_grad = True)\n",
    "        \n",
    "    def forward(self, X):\n",
    "        #Propogate inputs though network\n",
    "        self.z2 = torch.mm(X, self.W1)\n",
    "        self.a2 = self.sigmoid(self.z2)\n",
    "        self.z3 = torch.mm(self.a2, self.W2)\n",
    "        yHat = self.sigmoid(self.z3) \n",
    "        return yHat\n",
    "        \n",
    "    def sigmoid(self, z):\n",
    "        #Apply sigmoid activation function to scalar, vector, or matrix\n",
    "        return 1/(1+torch.exp(-z))"
   ]
  },
  {
   "cell_type": "code",
   "execution_count": 117,
   "metadata": {},
   "outputs": [],
   "source": [
    "# X = (hours sleeping, hours studying), y = Score on test\n",
    "X = torch.tensor(([3,5], [5,1], [10,2], [6,1.5]), dtype=torch.float)\n",
    "y = torch.tensor(([75], [82], [93], [70]), dtype=torch.float)\n",
    "\n",
    "max_values, max_indices = torch.max(X, dim=0) #Normalize Data\n",
    "X = X/max_values\n",
    "y = y/100 #Max test score is 100\n",
    "\n",
    "NT = Neural_Network_Torch()"
   ]
  },
  {
   "cell_type": "code",
   "execution_count": 118,
   "metadata": {},
   "outputs": [],
   "source": [
    "yhat = NT.forward(X)\n",
    "loss = torch.sum(0.5*(y-yhat)**2)"
   ]
  },
  {
   "cell_type": "code",
   "execution_count": 119,
   "metadata": {},
   "outputs": [
    {
     "data": {
      "text/plain": [
       "tensor(0.1125, grad_fn=<SumBackward0>)"
      ]
     },
     "execution_count": 119,
     "metadata": {},
     "output_type": "execute_result"
    }
   ],
   "source": [
    "loss"
   ]
  },
  {
   "cell_type": "markdown",
   "metadata": {},
   "source": [
    "- Notice that our loss is now a tensor with a `grad_fn`.\n",
    "- Now, to compute the gradients of our loss with respect to our weights, all we have to do is call `loss.backward()`!"
   ]
  },
  {
   "cell_type": "code",
   "execution_count": 120,
   "metadata": {},
   "outputs": [],
   "source": [
    "loss.backward()"
   ]
  },
  {
   "cell_type": "code",
   "execution_count": 121,
   "metadata": {},
   "outputs": [
    {
     "data": {
      "text/plain": [
       "tensor([[ 0.0226, -0.0299, -0.0082],\n",
       "        [ 0.0141, -0.0210, -0.0057]])"
      ]
     },
     "execution_count": 121,
     "metadata": {},
     "output_type": "execute_result"
    }
   ],
   "source": [
    "NT.W1.grad"
   ]
  },
  {
   "cell_type": "code",
   "execution_count": 122,
   "metadata": {},
   "outputs": [
    {
     "data": {
      "text/plain": [
       "tensor([[-0.1341],\n",
       "        [-0.1364],\n",
       "        [-0.1401]])"
      ]
     },
     "execution_count": 122,
     "metadata": {},
     "output_type": "execute_result"
    }
   ],
   "source": [
    "NT.W2.grad"
   ]
  },
  {
   "cell_type": "markdown",
   "metadata": {},
   "source": [
    "- Pretty cool, right? Remember how much work this took us when we only used numpy!\n",
    "- Now, let's put all this together and train our network using gradient descent."
   ]
  },
  {
   "cell_type": "code",
   "execution_count": 123,
   "metadata": {},
   "outputs": [],
   "source": [
    "num_iterations = 1000\n",
    "lr = 1e-2\n",
    "\n",
    "losses = []\n",
    "NT = Neural_Network_Torch()\n",
    "for i in range(num_iterations):\n",
    "    yhat = NT.forward(X)\n",
    "    loss = torch.sum(0.5*(y-yhat)**2)\n",
    "    loss.backward() #Compute Gradients\n",
    "    \n",
    "    # After we compute our gradients, we don't want torch to track the \n",
    "    # gradients when we actually perfrom gradient descent:\n",
    "    with torch.no_grad(): \n",
    "        NT.W1 -= NT.W1.grad * lr #Gradient Descent\n",
    "        NT.W2 -= NT.W2.grad * lr\n",
    "        NT.W1.grad.zero_(); NT.W2.grad.zero_(); #Zero Gradients\n",
    "        losses.append(loss.item())"
   ]
  },
  {
   "cell_type": "code",
   "execution_count": 124,
   "metadata": {},
   "outputs": [
    {
     "data": {
      "image/png": "[encoded data removed]",
      "text/plain": [
       "<Figure size 864x432 with 1 Axes>"
      ]
     },
     "metadata": {
      "needs_background": "light"
     },
     "output_type": "display_data"
    }
   ],
   "source": [
    "fig = figure(0, (12,6))\n",
    "plot(losses, linewidth = 3); grid(1); xlabel('iterations'); ylabel('loss');"
   ]
  },
  {
   "cell_type": "markdown",
   "metadata": {},
   "source": [
    "- Pretty cool, right?\n",
    "- Using Torch's automatic differentiation, we've been able to greatly simply our Neural Network class, while simultaneously enabling computation on GPU. \n",
    "- Next, we'll move on to using higher level Torch tools. "
   ]
  },
  {
   "cell_type": "markdown",
   "metadata": {},
   "source": [
    "## 5. Simpler and More Powerful Models with nn.Module"
   ]
  },
  {
   "cell_type": "markdown",
   "metadata": {},
   "source": [
    "- Now that we have our basic neural network working in PyTorch, we'll now refactor using various high-level PyTorch tools. \n",
    "- At each step our code should become more concise, more understandable, more flexible, and/or faster. \n",
    "- We'll start with nn.Module, a really nice neural network class that we can inherit our class from, providing some nice methods. Let's see how it works. "
   ]
  },
  {
   "cell_type": "code",
   "execution_count": 183,
   "metadata": {},
   "outputs": [],
   "source": [
    "from torch import nn"
   ]
  },
  {
   "cell_type": "code",
   "execution_count": 184,
   "metadata": {},
   "outputs": [],
   "source": [
    "class Neural_Network_Torch(nn.Module):\n",
    "    def __init__(self, inputLayerSize = 2, outputLayerSize = 1, hiddenLayerSize = 3):        \n",
    "        super().__init__()\n",
    "        #Using nn.Parameter will let use use some higher level nn.Module methods:\n",
    "        self.W1 = nn.Parameter(torch.randn(inputLayerSize, hiddenLayerSize))\n",
    "        self.W2 = nn.Parameter(torch.randn(hiddenLayerSize, outputLayerSize))\n",
    "        \n",
    "    def forward(self, X):\n",
    "        #Propagate inputs though network\n",
    "        self.a2 = torch.sigmoid(torch.mm(X, self.W1))\n",
    "        return torch.sigmoid(torch.mm(self.a2, self.W2))"
   ]
  },
  {
   "cell_type": "markdown",
   "metadata": {},
   "source": [
    "- First, notice how much shorter our class is getting!\n",
    "- Inheriting from the `nn.Module` class will give us some new methods, shown below, `.parameters()`, and `.zero_grad()`. \n",
    "- We've replaced our own sigmoid method with Torch's "
   ]
  },
  {
   "cell_type": "code",
   "execution_count": 185,
   "metadata": {},
   "outputs": [],
   "source": [
    "NT = Neural_Network_Torch()"
   ]
  },
  {
   "cell_type": "code",
   "execution_count": 186,
   "metadata": {},
   "outputs": [
    {
     "name": "stdout",
     "output_type": "stream",
     "text": [
      "Parameter containing:\n",
      "tensor([[ 0.1041, -0.5510,  1.6728],\n",
      "        [ 1.3707,  0.6518, -0.2930]], requires_grad=True)\n",
      "Parameter containing:\n",
      "tensor([[-0.5945],\n",
      "        [-0.2084],\n",
      "        [-1.7885]], requires_grad=True)\n"
     ]
    }
   ],
   "source": [
    "# We can iterate through all our parameters at once - \n",
    "# this is critical for deep networks with lots of weight matrices:\n",
    "for p in NT.parameters():\n",
    "    print(p)"
   ]
  },
  {
   "cell_type": "code",
   "execution_count": 187,
   "metadata": {},
   "outputs": [],
   "source": [
    "# Ww can alos zero all of our gradients at once now:\n",
    "NT.zero_grad()"
   ]
  },
  {
   "cell_type": "code",
   "execution_count": 189,
   "metadata": {},
   "outputs": [
    {
     "data": {
      "text/plain": [
       "tensor([[0.1689],\n",
       "        [0.1588],\n",
       "        [0.1238],\n",
       "        [0.1492]], grad_fn=<SigmoidBackward>)"
      ]
     },
     "execution_count": 189,
     "metadata": {},
     "output_type": "execute_result"
    }
   ],
   "source": [
    "#Note that we can also call our network as a \"function\" without expclicitly using the forward method:\n",
    "NT(X)"
   ]
  },
  {
   "cell_type": "code",
   "execution_count": 190,
   "metadata": {},
   "outputs": [
    {
     "data": {
      "text/plain": [
       "tensor([[0.1689],\n",
       "        [0.1588],\n",
       "        [0.1238],\n",
       "        [0.1492]], grad_fn=<SigmoidBackward>)"
      ]
     },
     "execution_count": 190,
     "metadata": {},
     "output_type": "execute_result"
    }
   ],
   "source": [
    "NT.forward(X)"
   ]
  },
  {
   "cell_type": "markdown",
   "metadata": {},
   "source": [
    "Let's put all this together and train our simplified neural network:"
   ]
  },
  {
   "cell_type": "code",
   "execution_count": 191,
   "metadata": {},
   "outputs": [],
   "source": [
    "num_iterations = 1000\n",
    "lr = 1e-2\n",
    "\n",
    "losses = []\n",
    "NT = Neural_Network_Torch()\n",
    "for i in range(num_iterations):\n",
    "    yhat = NT(X)\n",
    "    loss = torch.sum(0.5*(y-yhat)**2)\n",
    "    loss.backward() #Compute Gradients\n",
    "    \n",
    "    # After we compute our gradients, we don't want torch to track the \n",
    "    # gradients when we actually perfrom gradient descent:\n",
    "    with torch.no_grad(): \n",
    "        for p in NT.parameters():\n",
    "            p -= p.grad *lr\n",
    "        NT.zero_grad() #Zero Gradients\n",
    "        losses.append(loss.item())"
   ]
  },
  {
   "cell_type": "code",
   "execution_count": 192,
   "metadata": {},
   "outputs": [
    {
     "data": {
      "image/png": "[encoded data removed]",
      "text/plain": [
       "<Figure size 864x432 with 1 Axes>"
      ]
     },
     "metadata": {
      "needs_background": "light"
     },
     "output_type": "display_data"
    }
   ],
   "source": [
    "fig = figure(0, (12,6))\n",
    "plot(losses, linewidth = 3); grid(1); xlabel('iterations'); ylabel('loss');"
   ]
  },
  {
   "cell_type": "markdown",
   "metadata": {},
   "source": [
    "## 6. PyTorch Layers"
   ]
  },
  {
   "cell_type": "markdown",
   "metadata": {},
   "source": [
    "- Pytorch has lots of nice predifined neural networks layers\n",
    "- The layer type we're using now corresponds to a PyTorch `nn.Linear` layer.\n",
    "- PyTorch layers automatically create our parameter tensors for us, and are often faster then manual implementations. "
   ]
  },
  {
   "cell_type": "code",
   "execution_count": 193,
   "metadata": {},
   "outputs": [],
   "source": [
    "class Neural_Network_Torch(nn.Module):\n",
    "    def __init__(self, inputLayerSize = 2, outputLayerSize = 1, hiddenLayerSize = 3):        \n",
    "        super().__init__()\n",
    "        #Using nn.Parameter will let use use some higher level nn.Module methods:\n",
    "        self.lin1 = nn.Linear(inputLayerSize, hiddenLayerSize)\n",
    "        self.lin2 = nn.Linear(hiddenLayerSize, outputLayerSize)\n",
    "        \n",
    "    def forward(self, X):\n",
    "        #Propagate inputs though network\n",
    "        a2 = torch.sigmoid(self.lin1(X)) #We can pass our input directly into our PyTorch Layers\n",
    "        return torch.sigmoid(self.lin2(a2))"
   ]
  },
  {
   "cell_type": "code",
   "execution_count": 194,
   "metadata": {},
   "outputs": [],
   "source": [
    "num_iterations = 1000; lr = 1e-2; losses = []\n",
    "\n",
    "NT = Neural_Network_Torch()\n",
    "for i in range(num_iterations):\n",
    "    yhat = NT(X)\n",
    "    loss = torch.sum(0.5*(y-yhat)**2)\n",
    "    loss.backward() #Compute Gradients\n",
    "    \n",
    "    # After we compute our gradients, we don't want torch to track the \n",
    "    # gradients when we actually perfrom gradient descent:\n",
    "    with torch.no_grad(): \n",
    "        for p in NT.parameters():\n",
    "            p -= p.grad *lr\n",
    "        NT.zero_grad() #Zero Gradients\n",
    "        losses.append(loss.item())"
   ]
  },
  {
   "cell_type": "code",
   "execution_count": 195,
   "metadata": {},
   "outputs": [
    {
     "data": {
      "image/png": "[encoded data removed]",
      "text/plain": [
       "<Figure size 864x432 with 1 Axes>"
      ]
     },
     "metadata": {
      "needs_background": "light"
     },
     "output_type": "display_data"
    }
   ],
   "source": [
    "fig = figure(0, (12,6))\n",
    "plot(losses, linewidth = 3); grid(1); xlabel('iterations'); ylabel('loss');"
   ]
  },
  {
   "cell_type": "markdown",
   "metadata": {},
   "source": [
    "## 7. PyTorch Optim"
   ]
  },
  {
   "cell_type": "markdown",
   "metadata": {},
   "source": [
    "- Torch includes various optimization algorithms in `torch.optim`.\n",
    "- These will allow us to easily implement more sophisticated optimizers, and replace the `p -= p.grad *lr` with a simple call to optim's `step()` method."
   ]
  },
  {
   "cell_type": "code",
   "execution_count": 196,
   "metadata": {},
   "outputs": [],
   "source": [
    "from torch import optim"
   ]
  },
  {
   "cell_type": "code",
   "execution_count": 197,
   "metadata": {},
   "outputs": [],
   "source": [
    "num_iterations = 1000; lr = 1e-2; losses = []\n",
    "\n",
    "NT = Neural_Network_Torch()\n",
    "opt = optim.SGD(NT.parameters(), lr=lr) #pass in the parameters we want to optimize. \n",
    "\n",
    "for i in range(num_iterations):\n",
    "    yhat = NT(X)\n",
    "    loss = torch.sum(0.5*(y-yhat)**2)\n",
    "    loss.backward() #Compute Gradients\n",
    "    \n",
    "    opt.step() #Take a gradient descent \"step\", note that we no longer need torch.no_grad() here.\n",
    "    opt.zero_grad()\n",
    "    losses.append(loss.item())"
   ]
  },
  {
   "cell_type": "code",
   "execution_count": 198,
   "metadata": {},
   "outputs": [
    {
     "data": {
      "image/png": "[encoded data removed]",
      "text/plain": [
       "<Figure size 864x432 with 1 Axes>"
      ]
     },
     "metadata": {
      "needs_background": "light"
     },
     "output_type": "display_data"
    }
   ],
   "source": [
    "fig = figure(0, (12,6))\n",
    "plot(losses, linewidth = 3); grid(1); xlabel('iterations'); ylabel('loss');"
   ]
  },
  {
   "cell_type": "markdown",
   "metadata": {},
   "source": [
    "## 8. nn.Sequential"
   ]
  },
  {
   "cell_type": "markdown",
   "metadata": {},
   "source": [
    "- Finally, let's look at a really nice/simple altrenative way to setup models in PyTorch. \n",
    "- Using nn.Sequential, we can create a model by just passing in Pytorch Layers sequentially:"
   ]
  },
  {
   "cell_type": "code",
   "execution_count": 199,
   "metadata": {},
   "outputs": [],
   "source": [
    "inputLayerSize, hiddenLayerSize, outputLayerSize = 2, 3, 1\n",
    "\n",
    "model = nn.Sequential(nn.Linear(inputLayerSize, hiddenLayerSize),\n",
    "                       nn.Sigmoid(), \n",
    "                       nn.Linear(hiddenLayerSize, outputLayerSize),\n",
    "                       nn.Sigmoid())"
   ]
  },
  {
   "cell_type": "code",
   "execution_count": 200,
   "metadata": {},
   "outputs": [
    {
     "name": "stdout",
     "output_type": "stream",
     "text": [
      "Parameter containing:\n",
      "tensor([[ 0.1536,  0.0789],\n",
      "        [ 0.0877, -0.6827],\n",
      "        [ 0.6735, -0.0193]], requires_grad=True)\n",
      "Parameter containing:\n",
      "tensor([-0.4579,  0.5253, -0.0530], requires_grad=True)\n",
      "Parameter containing:\n",
      "tensor([[-0.2798,  0.2088, -0.4589]], requires_grad=True)\n",
      "Parameter containing:\n",
      "tensor([0.4432], requires_grad=True)\n"
     ]
    }
   ],
   "source": [
    "for p in model.parameters():\n",
    "    print(p)"
   ]
  },
  {
   "cell_type": "code",
   "execution_count": 201,
   "metadata": {},
   "outputs": [],
   "source": [
    "num_iterations = 1000; lr = 1e-2; losses = []\n",
    "\n",
    "opt = optim.SGD(model.parameters(), lr=lr) #pass in the parameters we want to optimize. \n",
    "for i in range(num_iterations):\n",
    "    yhat = model(X)\n",
    "    loss = torch.sum(0.5*(y-yhat)**2)\n",
    "    loss.backward() #Compute Gradients\n",
    "    \n",
    "    opt.step() #Take a gradient descent \"step\", note that we no longer need torch.no_grad() here.\n",
    "    opt.zero_grad()\n",
    "    losses.append(loss.item())"
   ]
  },
  {
   "cell_type": "code",
   "execution_count": 202,
   "metadata": {},
   "outputs": [
    {
     "data": {
      "image/png": "[encoded data removed]",
      "text/plain": [
       "<Figure size 864x432 with 1 Axes>"
      ]
     },
     "metadata": {
      "needs_background": "light"
     },
     "output_type": "display_data"
    }
   ],
   "source": [
    "fig = figure(0, (12,6))\n",
    "plot(losses, linewidth = 3); grid(1); xlabel('iterations'); ylabel('loss');"
   ]
  },
  {
   "cell_type": "markdown",
   "metadata": {},
   "source": [
    "## The End\n",
    "- Enjoy using Pytorch! "
   ]
  }
 ],
 "metadata": {
  "kernelspec": {
   "display_name": "Python 3",
   "language": "python",
   "name": "python3"
  },
  "language_info": {
   "codemirror_mode": {
    "name": "ipython",
    "version": 3
   },
   "file_extension": ".py",
   "mimetype": "text/x-python",
   "name": "python",
   "nbconvert_exporter": "python",
   "pygments_lexer": "ipython3",
   "version": "3.7.3"
  }
 },
 "nbformat": 4,
 "nbformat_minor": 2
}
